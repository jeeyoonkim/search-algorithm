{
 "cells": [
  {
   "cell_type": "markdown",
   "metadata": {
    "deletable": false,
    "editable": false
   },
   "source": [
    "# Assignment 2: Keeping up with social information (part 2)\n",
    "\n",
    "© Cristian Danescu-Niculescu-Mizil, 2023"
   ]
  },
  {
   "cell_type": "markdown",
   "metadata": {
    "deletable": false,
    "editable": false,
    "nbgrader": {
     "grade": false,
     "grade_id": "cell-e7c4ba72adf31577",
     "locked": true,
     "schema_version": 3,
     "solution": false
    }
   },
   "source": [
    "<p style=\"text-align:center\">\n",
    "    <img src=\"https://imgs.xkcd.com/comics/social_media.png\" alt=\"xkcd Social Media: The social media reaction to this asteroid announcement has been sharply negative. Care to respond?\" width=\"650\"/><br/>(source: <a href=\"https://xkcd.com/1239/\">xkcd.com/1239</a>)\n",
    "</p>\n",
    "\n",
    "- - -\n",
    "\n",
    "## INFO/CS 4300: Language and Information <a class=\"anchor\" id=\"guidelines\"></a>\n",
    "\n",
    "> <font color='red'> **DUE**: </font>\n",
    ">\n",
    "> * <font color='red'> [PART 1] February 08, 2023 (Wednesday), 11:59pm </font>\n",
    "> * <font color='red'> [PART 2] February 15, 2023 (Wednesday), 11:59pm </font>\n",
    ">  \n",
    "> (See [below](#contents) for what constitutes [part 1](#part1) and what constitutes [part 2](#part2).)\n",
    "\n",
    "This assignment is an **individual** component.\n",
    "\n",
    "In this assignment we will further build upon our analysis of the transcripts from the reality TV show \"[*Keeping Up With The Kardashians*](https://en.wikipedia.org/wiki/Keeping_Up_with_the_Kardashians)\" from where we left off since Assignment 1. We will try to uncover some simple social dynamics that are shown through language using various statistical and linguistic techniques, to better understand conversational behavior.\n",
    "\n",
    "**Note**: While the assignment is straightforward, it introduces several critical ways of analyzing conversations, and is expectedly (definitely) longer than completable-in-one-day's work. We strongly recommend that you start with the assignment early so as to not rush with it in the end. Happy conversational analysis!\n",
    "\n",
    "<u>Contributors</u>: In addition to the course staff for INFO/CS 4300 from the past runs, Tushaar Gangavarapu, Altria Wang, Kai Horstmann, and Jae Kim worked on updating this assignment, while Saif Mahmud, Raymond Chang, Yvette Hung, and Eunice Zhang were involved in testing the assignment.\n",
    "\n",
    "- - -\n",
    "\n",
    "#### Learning objectives\n",
    "\n",
    "This project aims to help you get comfortable working with the following tools, technologies, and/or concepts:\n",
    "\n",
    "* Text similarity measures (standard/generalized Jaccard similarity)\n",
    "* Plotting heatmaps in `matplotlib`\n",
    "* Advanced numpy functionality\n",
    "* Interaction strength\n",
    "* Social interaction analysis \n",
    "* Character priming\n",
    "* Conversation analysis\n",
    "\n",
    "- - -\n",
    "\n",
    "#### Academic integrity and collaboration\n",
    "\n",
    "As mentioned, this project should be completed **individually**. As a result, all University-standard academic integrity guidelines must be followed.\n",
    "\n",
    "- - -\n",
    "\n",
    "#### Guidelines\n",
    "\n",
    "* All (code) cells that contain the blocks that read `# YOUR CODE GOES HERE` are editable, and are to be completed to ensure you pass the test cases. Make sure to write your code only where it is indicated to do so.\n",
    "\n",
    "* Please delete `raise NotImplementedError()` after filling in the function code. It is only meant to be a temporary placeholder \n",
    "\n",
    "* All (text) cells that read `YOUR ANSWER GOES HERE` are free-response cells that are editable and are to be completed.\n",
    "\n",
    "* You may use any number of notebook cells to explore the data and test out your functions, although you will only be graded on the solution itself.\n",
    "\n",
    "* You are unable to modify the read-only cells.\n",
    "\n",
    "* **Do not delete the cells for optional questions, even if you do not choose to answer them.**\n",
    "\n",
    "* You should also use Markdown cells to explain your code and discuss your results when necessary. Instructions to use Markdown can be found [here](http://jupyter-notebook.readthedocs.io/en/latest/examples/Notebook/Working%20With%20Markdown%20Cells.html).\n",
    "\n",
    "* All floating point values should be printed with **2 decimal places** precision (unless otherwise stated). You can do so using the built-in round function.\n",
    "\n",
    "- - -\n",
    "\n",
    "#### Grading\n",
    "\n",
    "For code-completion questions, you will be graded on passing the public test cases we have included, as well as any hidden test cases that we have supplemented within a given amount of time to ensure that your logic is correct.\n",
    "\n",
    "For free-response questions, you will be manually graded on the quality of your answer.\n",
    "\n",
    "- - -\n",
    "\n",
    "#### Submission\n",
    "\n",
    "* This entire notebook is expected to run with an upper bound being ~1-2 minutes.\n",
    "\n",
    "* Also make sure to remove any **redundant print statements** to speed things up and prevent generating unnecessary outputs.\n",
    "\n",
    "* <font color='red'><u>Important</u></font>: You are expected to submit this notebook twice (once for part 1 submission and once for part 2 submission), as your submission for Assignment 2:\n",
    "  * For [PART 1](#part1) submission (due: 02/08), upload the entire notebook file, filling all cells *up to* [PART 2](#part2); you will *only* be graded on all the cells filled till part 2 (any cells filled beyond that will NOT be considered for part 1 grading).\n",
    "  * For [PART 2](#part2) submission (due: 02/15), ensure to have filled all the cells; you will *only* be graded on the cells spanning *between* part 2 and the end of the notebook. Any changes made to part 1 will NOT affect your part 1 score. However, you should fix any errors in your part 1 solutions because they might affect the correctness of your part 2 outputs.\n",
    "\n",
    "* Each time you submit the notebook, also submit an html copy of the notebook (you can create this by clicking File → Download as → HTML (.html))."
   ]
  },
  {
   "cell_type": "markdown",
   "metadata": {
    "deletable": false,
    "editable": false
   },
   "source": [
    "- - -\n",
    "### Contents  <a class=\"anchor\" id=\"contents\"></a>\n",
    "\n",
    "* [Instructions and guidelines](#guidelines)\n",
    "* [Contents](#contents)\n",
    "\n",
    "\n",
    "* [[PART 1]](#part1) **Character interaction analyses** [<font color='red'>due: 02/08</font>]\n",
    "  * [Imports and data](#0)\n",
    "  * [[1](#1)] Similarity analysis to unfold character interactions\n",
    "    * [[1a](#1a)] Character similarity w/ Jaccard \n",
    "    * [[1b](#1b)] Character-level average similarity \n",
    "    * [[1c](#1c)] Relative uniqueness of speakers\n",
    "  * [[2](#2)] Character interaction analysis with generalized Jaccard\n",
    "    * [[2a](#2a)] Term frequency (for generalized Jaccard)\n",
    "    * [[2b](#2b)] Character similarity w/ generalized Jaccard\n",
    "    * [[2c](#2c)] Character similarity w/ Jaccard vs. generalized Jaccard\n",
    "  * [[3](#3)] Character-pair analysis\n",
    "    * [[3a](#3a)] Character-pair analysis w/ generalized Jaccard\n",
    "    * [[3b](#3b)] Relative speaker uniqueness\n",
    "  * [[4](#4)] Character interactions\n",
    "    * [[4a](#4a)] Character replies\n",
    "    * [[4b](#4b)] Communication between characters\n",
    "\n",
    "\n",
    "* [[PART 2]](#part2) **Interaction strength and social interaction patterns** [<font color='red'>due: 02/15</font>]\n",
    "  * [[5](#5)] Character-pair specific reply diction\n",
    "    * [[5a](#5a)] Words used most specifically by pairs of characters\n",
    "    * [[5b](#5b)] Building character-pair word occurrence matrix\n",
    "    * [[5c](#5c)] Weighting the character-pair word occurrences\n",
    "    * [[5d](#5d)] Analyzing character-pair specific diction\n",
    "  * [[6](#6)] Strength of interactions between speaker pairs\n",
    "    * [[6a](#6a)] Pair interaction strength\n",
    "    * [[6b](#6b)] Pair interaction strength and similarity\n",
    "    * [[6c](#6c)] Analyzing pair interaction strength and similarity\n",
    "    * [[6d](#6d)] Connecting pair interaction strength and similarity\n",
    "  * [[7](#7)] Speaker characteristics and social interaction\n",
    "    * [[7a](#7a)] Age-group and social interaction\n",
    "    * [[7b](#7b)] Weighting age-group interactions matrix\n",
    "    * [[7c](#7c)] Analyzing age-group and social interaction\n",
    "    * [[7d](#7d)] [<font color='green'>optional</font>] Other characteristics and social interaction\n",
    "  * [[8](#8)] Priming: Word choice influenced by the person being spoken to\n",
    "    * [[8a](#8a)] Character priming matrix\n",
    "    * [[8b](#8b)] Analyzing character priming findings\n",
    "    * [[8c](#8c)] Repeated words in replies\n",
    "    * [[8d](#8d)] Character priming word analysis\n",
    "    * [[8e](#8e)] [<font color='green'>optional</font>] Character priming and interaction strength\n",
    "\n",
    "\n",
    "* [Extra-credit assignment-2](#ec) [<font color='red'>due: 02/15</font>]\n",
    "\n",
    "(For those curious, the rendering of backlink to \"contents\" from each section, i.e., the right corner [[contents](#contents)] link, is only accessible via .ipynb notebook, it causes unexpected behavior when viewed in .html.)"
   ]
  },
  {
   "cell_type": "markdown",
   "metadata": {
    "deletable": false,
    "editable": false
   },
   "source": [
    "- - -\n",
    "<p style='text-align:right; font-size:11px'>[[contents](#contents)]</p>\n",
    "\n",
    "### [PART 1] Character interaction analyses <a class=\"anchor\" id=\"part1\"></a>\n",
    "> <font color='red'>due 02/08 11:59pm</font>"
   ]
  },
  {
   "cell_type": "markdown",
   "metadata": {
    "deletable": false,
    "editable": false
   },
   "source": [
    "- - -\n",
    "<p style='text-align:right; font-size:11px'>[[contents](#contents)]</p>\n",
    "\n",
    "### Imports and data <a class=\"anchor\" id=\"0\"></a>\n",
    "\n",
    "Please do NOT import any additional modules; the following imports should be sufficient to work with. As such, you should try and use numpy functions as much as you can. To review numpy operations, see the resources on [Ed #60](https://edstem.org/us/courses/36001/discussion/2460122)."
   ]
  },
  {
   "cell_type": "code",
   "execution_count": 1,
   "metadata": {
    "deletable": false,
    "editable": false,
    "nbgrader": {
     "grade": false,
     "grade_id": "cell-97b1c5e4f7df612c",
     "locked": true,
     "schema_version": 3,
     "solution": false
    }
   },
   "outputs": [],
   "source": [
    "import re\n",
    "import json\n",
    "import os\n",
    "from io import StringIO\n",
    "import pickle\n",
    "\n",
    "import numpy as np\n",
    "\n",
    "# Plotting libraries.\n",
    "%matplotlib inline\n",
    "%config InlineBackend.figure_format = 'retina'\n",
    "import matplotlib.pyplot as plt\n",
    "\n",
    "# Imports that might help with various functionality.\n",
    "import functools\n",
    "import operator\n",
    "\n",
    "# Testing libraries.\n",
    "from numpy.testing import assert_almost_equal"
   ]
  },
  {
   "cell_type": "code",
   "execution_count": 2,
   "metadata": {
    "deletable": false,
    "editable": false,
    "nbgrader": {
     "grade": false,
     "grade_id": "cell-7114417ecfb57e62",
     "locked": true,
     "schema_version": 3,
     "solution": false
    },
    "solution": "hidden",
    "solution_first": true
   },
   "outputs": [],
   "source": [
    "import sys\n",
    "\n",
    "# Ensure that your kernel is using Python-3.x.\n",
    "assert sys.version_info.major == 3"
   ]
  },
  {
   "cell_type": "markdown",
   "metadata": {
    "deletable": false,
    "editable": false,
    "nbgrader": {
     "grade": false,
     "grade_id": "cell-b9584a9a5df87291",
     "locked": true,
     "schema_version": 3,
     "solution": false
    },
    "solution": "hidden"
   },
   "source": [
    "To ensure that you are comfortable moving forward. Make sure that you are familair with the following data structures that were defined in Assignment 1, as you will be using these throughout Assignment 2:\n",
    "* `deduped_transcripts`\n",
    "* `good_types`\n",
    "* `word_matrix`\n",
    "* `good_speakers`"
   ]
  },
  {
   "cell_type": "code",
   "execution_count": 3,
   "metadata": {
    "cell_style": "center",
    "deletable": false,
    "editable": false,
    "nbgrader": {
     "grade": false,
     "grade_id": "cell-e31168ecff8580a3",
     "locked": true,
     "schema_version": 3,
     "solution": false
    }
   },
   "outputs": [],
   "source": [
    "# Load deduped transcripts from Assignment 1.\n",
    "with open('deduped_transcripts.pickle', 'rb') as f:\n",
    "    deduped_transcripts = pickle.load(f)\n",
    "\n",
    "# Load `good_types` from Assignment 1.\n",
    "with open('good_types.pickle', 'rb') as f:\n",
    "    good_types = pickle.load(f)\n",
    "n_good_types = len(good_types)\n",
    "\n",
    "# Load the `word_matrix` from Assignment 1.\n",
    "with open('word_matrix.pickle', 'rb') as f:\n",
    "    word_matrix = pickle.load(f)\n",
    "\n",
    "# Reusing `good_speakers` from Assignment 1.\n",
    "good_speakers = [\n",
    "    u'BRUCE', u'JONATHAN', u'KHLOE', u'KIM', u'KOURTNEY', u'KRIS', u'ROBERT', u'SCOTT'\n",
    "]\n",
    "n_good_speakers = len(good_speakers)"
   ]
  },
  {
   "cell_type": "code",
   "execution_count": 4,
   "metadata": {
    "cell_style": "center",
    "code_folding": [],
    "deletable": false,
    "editable": false,
    "nbgrader": {
     "grade": false,
     "grade_id": "cell-59e3bcaa15cf7e4f",
     "locked": true,
     "schema_version": 3,
     "solution": false
    }
   },
   "outputs": [],
   "source": [
    "# Ensure that the pickled data stuctures are correct.\n",
    "assert type(deduped_transcripts[0]) == tuple\n",
    "assert n_good_types == 4517\n",
    "assert n_good_speakers == 8"
   ]
  },
  {
   "cell_type": "markdown",
   "metadata": {
    "deletable": false,
    "editable": false,
    "nbgrader": {
     "grade": false,
     "grade_id": "cell-5d95eab0b7441c94",
     "locked": true,
     "schema_version": 3,
     "solution": false
    },
    "solution": "hidden"
   },
   "source": [
    "- - -\n",
    "<p style='text-align:right; font-size:11px'>[[contents](#contents)]</p>\n",
    "\n",
    "### Similarity analysis to unfold character interactions <a class=\"anchor\" id=\"1\"></a>\n",
    "\n",
    "#### <font color='blue'> Question 1a (code completion): Character similarity w/ Jaccard </font> <a class=\"anchor\" id=\"1a\"></a>\n",
    "We will begin by looking at which characters speak most similarly to each other. To analyze this, you will build a *symmetric* character-by-character matrix showing how similar each pair of characters is, then plot this matrix as a heatmap using `matplotlib imshow`. We will be using Jaccard similarity for this analysis. \n",
    "\n",
    "Jaccard similarity, $J(A, B)$, between two sets, $A$ and $B$, is computed as:\n",
    "\\begin{equation}\n",
    "J(A, B) = \\frac{\\vert\\, A \\cap B \\,\\vert}{\\vert\\, A \\cup B \\,\\vert}\n",
    "\\end{equation}\n",
    "\n",
    "To fit the definition, we represent a character as a set of all words they use (as usual, we only consider \"good types\"). **Note that this formulation involves disregarding *how many times* a speaker said a word.**\n",
    "\n",
    "Therefore, the definition can be rewritten as ($A$ and $B$ are sets of words uttered by two distinct characters):\n",
    "\n",
    "$$ J(A, B) = \\frac{\\sum_{w\\,\\in\\,\\text{good types}} w \\in A \\,\\text{and}\\, w \\in B}\n",
    "{\\sum_{w\\,\\in\\,\\text{good types}}w \\in A \\,\\text{or}\\, w \\in B} $$\n",
    "\n",
    "Since set intersection and union are symmetric operations, it follows that Jaccard similarity is also a symmetric:\n",
    "\n",
    "$$ J(A, B) = J(B, A) $$\n",
    "\n",
    "In the cell below, fulfill the function specification:"
   ]
  },
  {
   "cell_type": "code",
   "execution_count": 5,
   "metadata": {
    "code_folding": [],
    "deletable": false,
    "nbgrader": {
     "grade": false,
     "grade_id": "create_j_sim_mat",
     "locked": false,
     "schema_version": 3,
     "solution": true
    }
   },
   "outputs": [],
   "source": [
    "def create_j_sim_mat(input_n_speakers, input_word_matrix, input_good_types):\n",
    "    \"\"\"Create Jaccard similarity matrix for characters.\n",
    "\n",
    "    Create Jaccard similarity matrix, a np.ndarray of size (`input_n_speakers`, `input_n_speakers`),\n",
    "    computing the character similarity, where the entry (i, j) indicating the Jaccard similarity\n",
    "    between the speakers `i` and `j`.\n",
    "\n",
    "    Hint: To help you out, here are a few numpy operations you might find useful: np.zeros, \n",
    "    np.count_nonzero, np.sum.\n",
    "\n",
    "    Parameters\n",
    "    ----------\n",
    "    input_n_speakers : int\n",
    "        The number of input speakers to be chosen in constructing the Jaccard similarity matrix.\n",
    "    input_word_matrix : np.ndarray\n",
    "        The word occurrence matrix of (`n_good_speakers`, `n_good_types`), with the entry (i, j)\n",
    "        indicating how often the speaker `i` utters word `j`.\n",
    "    input_good_types : list\n",
    "        An alphabetically-sorted list of all the words that appear in more than one episode \n",
    "        (referred to as \"good types\" in assignment 1).\n",
    "\n",
    "    Returns\n",
    "    -------\n",
    "    np.ndarray\n",
    "        The Jaccard similarity matrix of (`input_n_speakers`, `input_n_speakers`), with the entry\n",
    "        (i, j) indicating the Jaccard similarity between the speakers `i` and `j`.\n",
    "    \"\"\"\n",
    "    # YOUR CODE GOES HERE\n",
    "    \n",
    "    returnMatrix = np.zeros((input_n_speakers, input_n_speakers))\n",
    "    \n",
    "    for a in range(input_n_speakers):\n",
    "        for b in range(input_n_speakers):\n",
    "           \n",
    "            intersection = 0\n",
    "            union = 0 \n",
    "            \n",
    "            for i in range(len(input_good_types)):\n",
    "                if input_word_matrix[a][i] > 0 and input_word_matrix[b][i]>0:\n",
    "                    intersection +=1 \n",
    "                if input_word_matrix[a][i] > 0 or input_word_matrix[b][i]>0:\n",
    "                    union +=1 \n",
    "            returnMatrix[a][b]  = intersection/union\n",
    "            \n",
    "    return returnMatrix"
   ]
  },
  {
   "cell_type": "code",
   "execution_count": 6,
   "metadata": {
    "deletable": false,
    "editable": false,
    "nbgrader": {
     "grade": false,
     "grade_id": "cell-8e9bf7fa52dc0f25",
     "locked": true,
     "schema_version": 3,
     "solution": false
    }
   },
   "outputs": [],
   "source": [
    "j_sim_matrix = create_j_sim_mat(n_good_speakers, word_matrix, good_types)"
   ]
  },
  {
   "cell_type": "code",
   "execution_count": 7,
   "metadata": {
    "deletable": false,
    "editable": false,
    "nbgrader": {
     "grade": true,
     "grade_id": "create_j_sim_mat_test",
     "locked": true,
     "points": 20,
     "schema_version": 3,
     "solution": false
    }
   },
   "outputs": [],
   "source": [
    "# This is an autograder test; we can test the function you just wrote above.\n",
    "\"\"\"Check that `create_j_sim_mat` returns the correct output.\"\"\"\n",
    "assert type(j_sim_matrix) == np.ndarray\n",
    "assert j_sim_matrix.shape == (8, 8)\n",
    "assert j_sim_matrix[4][4] == 1\n",
    "assert_almost_equal(round(j_sim_matrix[2][5], 1), 0.5)"
   ]
  },
  {
   "cell_type": "markdown",
   "metadata": {
    "deletable": false,
    "editable": false,
    "nbgrader": {
     "grade": false,
     "grade_id": "cell-bb6bcb9cc0b99177",
     "locked": true,
     "schema_version": 3,
     "solution": false,
     "task": false
    }
   },
   "source": [
    "To make our heatmap more interpretable we have explicitly set the range of our heatmap gradient using `vmin` and `vmax`. This means that values less than `vmin` will have the same shade as `vmin` (white) and that values more than `vmax` will have the same shade as `vmax` (black).\n",
    "\n",
    "Try varying `vmin` and `vmax` to get a better sense of speaker similarities."
   ]
  },
  {
   "cell_type": "code",
   "execution_count": 8,
   "metadata": {
    "deletable": false,
    "nbgrader": {
     "grade": false,
     "grade_id": "cell-bd902e9aa1b307b1",
     "locked": true,
     "schema_version": 3,
     "solution": false
    }
   },
   "outputs": [
    {
     "data": {
      "image/png": "[encoded data removed]",
      "text/plain": [
       "<Figure size 360x360 with 2 Axes>"
      ]
     },
     "metadata": {
      "image/png": {
       "height": 327,
       "width": 349
      },
      "needs_background": "light"
     },
     "output_type": "display_data"
    }
   ],
   "source": [
    "plt.figure(figsize=(5, 5))\n",
    "plt.imshow(j_sim_matrix, interpolation='none', cmap=plt.cm.Blues, vmin=0, vmax=0.6)\n",
    "plt.colorbar()\n",
    "\n",
    "plt.xticks(range(n_good_speakers), good_speakers, rotation=90)\n",
    "plt.yticks(range(n_good_speakers), good_speakers)\n",
    "plt.show()"
   ]
  },
  {
   "cell_type": "markdown",
   "metadata": {
    "deletable": false,
    "editable": false,
    "nbgrader": {
     "grade": false,
     "grade_id": "cell-154d61b3f119a006",
     "locked": true,
     "schema_version": 3,
     "solution": false
    }
   },
   "source": [
    "- - -\n",
    "<p style='text-align:right; font-size:11px'>[[contents](#contents)]</p>\n",
    "\n",
    "#### <font color='blue'> Question 1b (code completion): Character-level average similarity </font>  <a class=\"anchor\" id=\"1b\"></a>\n",
    "\n",
    "To better understand the relative uniqueness of speakers, we will examine average similarity measurements for each character. You will build a dictionary that contains the mean similarity measurement for each speaker ignoring the speaker's self-similarity measurement. This function should take an arbitrary matrix (for the sake of future analysis that we will do) that is ordered by `good_speakers`.\n",
    "\n",
    "Please define the function below which returns a dictionary with the following format:\n",
    "```json\n",
    "{CHARACTER_NAME_A: avg_score_a,\n",
    " CHARACTER_NAME_B: avg_score_b,\n",
    " ...\n",
    "}\n",
    "```"
   ]
  },
  {
   "cell_type": "code",
   "execution_count": 9,
   "metadata": {
    "deletable": false,
    "nbgrader": {
     "grade": false,
     "grade_id": "avg_sim_dict",
     "locked": false,
     "schema_version": 3,
     "solution": true,
     "task": false
    }
   },
   "outputs": [],
   "source": [
    "def avg_sim_dict(input_sim_matrix, input_good_speakers):\n",
    "    \"\"\"A dictionary of average Jaccard similarity scores.\n",
    "    \n",
    "    Returns a dictionary with the keys being speakers and the values being that character's average \n",
    "    similarity scores with all other characters (i.e., ignoring the speaker's self-similarity\n",
    "    measurement).\n",
    "    \n",
    "    Hint: To help you out, here are a few numpy operations that might be useful: np.sum, np.average.\n",
    "    \n",
    "    Parameters\n",
    "    ----------\n",
    "    input_sim_matrix : np.ndarray\n",
    "        The input similarity matrix, ordered by `input_good_speakers`.\n",
    "    input_good_speakers : list\n",
    "        A list of chosen \"good\" speakers.\n",
    "    \n",
    "    Returns\n",
    "    -------\n",
    "    dict\n",
    "        A dictionary with speakers as keys and associated average similarity score as values.\n",
    "    \"\"\"\n",
    "    # YOUR CODE GOES HERE\n",
    "    \n",
    "    returnDict = dict()\n",
    "\n",
    "    sum = np.sum(input_sim_matrix, axis=1) #obtain the sum of the col \n",
    "\n",
    "    for i,speaker in enumerate(input_good_speakers):\n",
    "        avg = (sum[i] - input_sim_matrix[i][i]) / (len(input_good_speakers) -1)\n",
    "        returnDict[speaker] = avg\n",
    "        \n",
    "    return returnDict"
   ]
  },
  {
   "cell_type": "code",
   "execution_count": 10,
   "metadata": {
    "deletable": false,
    "editable": false,
    "nbgrader": {
     "grade": false,
     "grade_id": "cell-763a9abe474f72b9",
     "locked": true,
     "schema_version": 3,
     "solution": false,
     "task": false
    }
   },
   "outputs": [],
   "source": [
    "avg_jaccard_sim_dict = avg_sim_dict(j_sim_matrix, good_speakers)"
   ]
  },
  {
   "cell_type": "code",
   "execution_count": 11,
   "metadata": {
    "deletable": false,
    "editable": false,
    "nbgrader": {
     "grade": true,
     "grade_id": "avg_sim_dict_test",
     "locked": true,
     "points": 5,
     "schema_version": 3,
     "solution": false
    }
   },
   "outputs": [],
   "source": [
    "# This is an autograder test. Here we can test the function you just wrote above.\n",
    "\"\"\"Check that `sim_dict` returns the correct output.\"\"\"\n",
    "assert type(avg_jaccard_sim_dict) == dict\n",
    "assert avg_jaccard_sim_dict['JONATHAN'] > 0.2\n",
    "assert avg_jaccard_sim_dict['KHLOE'], 1 > 0.4"
   ]
  },
  {
   "cell_type": "markdown",
   "metadata": {
    "deletable": false,
    "editable": false,
    "nbgrader": {
     "grade": false,
     "grade_id": "cell-53f490ab01863601",
     "locked": true,
     "schema_version": 3,
     "solution": false,
     "task": false
    }
   },
   "source": [
    "- - -\n",
    "<p style='text-align:right; font-size:11px'>[[contents](#contents)]</p>\n",
    "\n",
    "#### <font color='blue'> Question 1c (code completion): Relative uniqueness of speakers </font>  <a class=\"anchor\" id=\"1c\"></a>\n",
    "\n",
    "To more easily analyze the relative uniqueness of speakers, where the most unique speaker is the most dissimilar (i.e. lowest similarity score) to the other speakers. We will take an input average similarity dictionary and return the most and least unique speakers and their corresponding average similarity scores. As a result, we want to return a tuple of tuples in the following format:\n",
    "```json\n",
    "((MOST_UNIQUE_CHARACTER_NAME, LEAST_SIM_SCORE),\n",
    " (LEAST_UNIQUE_CHARACTER_NAME, MOST_SIM_SCORE))\n",
    "```"
   ]
  },
  {
   "cell_type": "code",
   "execution_count": 12,
   "metadata": {
    "deletable": false,
    "nbgrader": {
     "grade": false,
     "grade_id": "most_least_sim_pairs",
     "locked": false,
     "schema_version": 3,
     "solution": true
    }
   },
   "outputs": [],
   "source": [
    "def most_least_unique_characters(input_avg_sim_dict):\n",
    "    \"\"\"Returns a tuple which shows the most and least unique characters. \n",
    "\n",
    "    The desired tuple format should be the following: \n",
    "    ```((MOST_UNIQUE_CHARACTER_NAME, LEAST_SIM_SCORE),\n",
    "        (LEAST_UNIQUE_CHARACTER_NAME, MOST_SIM_SCORE))```.\n",
    "         \n",
    "    Parameters\n",
    "    ----------\n",
    "    input_avg_sim_dict : dict\n",
    "        A dictionary with speakers as keys and associated average similarity score as values.\n",
    "    \n",
    "    Returns\n",
    "    -------\n",
    "    tuple\n",
    "        A tuple which shows the most and least unique characters, and their similarity scores.\n",
    "    \"\"\"\n",
    "    # YOUR CODE GOES HERE\n",
    "\n",
    "    sortedDict = sorted(input_avg_sim_dict.items(), key=lambda x:x[1])\n",
    "    return (sortedDict[0], sortedDict[1])"
   ]
  },
  {
   "cell_type": "code",
   "execution_count": 13,
   "metadata": {
    "deletable": false,
    "editable": false,
    "nbgrader": {
     "grade": false,
     "grade_id": "cell-22808a2d32cae4ec",
     "locked": true,
     "schema_version": 3,
     "solution": false
    }
   },
   "outputs": [
    {
     "name": "stdout",
     "output_type": "stream",
     "text": [
      "MOST UNIQUE: JONATHAN - 0.26\n",
      "LEAST UNIQUE: SCOTT - 0.35\n"
     ]
    }
   ],
   "source": [
    "most_least_tup = most_least_unique_characters(avg_jaccard_sim_dict)\n",
    "print(\"MOST UNIQUE: {} - {:.2f}\".format(*most_least_tup[0]))\n",
    "print(\"LEAST UNIQUE: {} - {:.2f}\".format(*most_least_tup[1]))"
   ]
  },
  {
   "cell_type": "code",
   "execution_count": 14,
   "metadata": {
    "deletable": false,
    "editable": false,
    "nbgrader": {
     "grade": true,
     "grade_id": "most_least_sim_pairs_test",
     "locked": true,
     "points": 5,
     "schema_version": 3,
     "solution": false
    }
   },
   "outputs": [],
   "source": [
    "# This is an autograder test. Here we can test the function you just wrote above.\n",
    "\"\"\"Check that `most_least_sim_pairs` returns the correct output.\"\"\"\n",
    "assert type(most_least_tup) == tuple\n",
    "assert len(most_least_tup) == 2"
   ]
  },
  {
   "cell_type": "markdown",
   "metadata": {
    "deletable": false,
    "editable": false,
    "nbgrader": {
     "grade": false,
     "grade_id": "cell-4a1ac2a746651c3a",
     "locked": true,
     "schema_version": 3,
     "solution": false,
     "task": false
    }
   },
   "source": [
    "- - -\n",
    "<p style='text-align:right; font-size:11px'>[[contents](#contents)]</p>\n",
    "\n",
    "### Character interaction analysis with generalized Jaccard  <a class=\"anchor\" id=\"2\"></a>\n",
    "\n",
    "#### <font color='blue'> Question 2a (code completion): Term frequency (for generalized Jaccard) </font>  <a class=\"anchor\" id=\"2a\"></a>\n",
    "\n",
    "The similarity measure that we took above doesn't take into account how often the characters say a word. To account for this, we can use *generalized Jaccard*, an extension of Jaccard to weighted sets.\n",
    "\n",
    "For each word $w$ and each character $C$, we compute the frequency weight $\\text{tf}(w, C)$ as the ratio between the number of times $C$ says the word $w$, and the total number of words (good types) said by $C$. For example, if we had a character named Ned, and all of the words that he said were \"my name is ned stark of house stark\" the $\\text{tf}(stark, ned)$ would be $\\frac{2}{8}$\n",
    "\n",
    "Generalized Jaccard is:\n",
    "\n",
    "$$ GJ(A, B) = \\frac{\\sum_{w \\,\\in \\text{ good types}} \\text{min}(\\text{tf}(w, A), \\text{tf}(w, B))}\n",
    "{\\sum_{w \\,\\in \\text{ good types}} \\text{max}(\\text{tf}(w, A), \\text{tf}(w, B))} $$\n",
    "\n",
    "Note that Jaccard is equivalent to generalized Jaccard if the weights are binarized by truncating all positive weights to 1.\n",
    "\n",
    "Firstly, you will begin by defining a `tf` function below. "
   ]
  },
  {
   "cell_type": "code",
   "execution_count": 15,
   "metadata": {
    "deletable": false,
    "editable": false,
    "nbgrader": {
     "grade": false,
     "grade_id": "cell-b1655b99d99e8344",
     "locked": true,
     "schema_version": 3,
     "solution": false,
     "task": false
    }
   },
   "outputs": [],
   "source": [
    "# To help you, we have incuded this variable which is an inverse index for `good_types`.\n",
    "good_types_reverse_index = {t: i for i, t in enumerate(good_types)}"
   ]
  },
  {
   "cell_type": "code",
   "execution_count": 16,
   "metadata": {
    "deletable": false,
    "nbgrader": {
     "grade": false,
     "grade_id": "tf_def",
     "locked": false,
     "schema_version": 3,
     "solution": true
    }
   },
   "outputs": [],
   "source": [
    "def tf(word_w, character_c, input_word_matrix):\n",
    "    \"\"\"Compute the term frequency weight for a given word and character.\n",
    "    \n",
    "    This function determines the term frequency weight as the ratio between the number of times an \n",
    "    input character `character_c` utters word `word_w`, and the total number of words said by \n",
    "    character `character_c`.\n",
    "    \n",
    "    Note: Please use full precision in your answer (do NOT round). Also, be sure to use the global\n",
    "    variable `good_types_reverse_index` in this method (to ensure a smaller arg list). Finally, you\n",
    "    may realize that this TF compute is different from the unnormalized TF taught in the class.\n",
    "    \n",
    "    Hint: You may find it helpful to use np.sum.\n",
    "    \n",
    "    Parameters\n",
    "    ----------\n",
    "    word_w : str\n",
    "        The word whose term frequency weight is to be computed.\n",
    "    character_c : int\n",
    "        The index of the character within `good_speakers`. \n",
    "    input_word_matrix : np.ndarray\n",
    "        The word occurrence matrix of (`n_good_speakers`, `n_good_types`), with the entry (i, j)\n",
    "        indicating how often the speaker `i` utters word `j`.\n",
    "    \n",
    "    Returns\n",
    "    -------\n",
    "    float\n",
    "        The (unrounded) term frequency weight for a given word and character.\n",
    "    \"\"\"\n",
    "    # YOUR CODE GOES HERE\n",
    "    \n",
    "    wordIndex = good_types_reverse_index[word_w]\n",
    "    num = input_word_matrix[character_c][wordIndex]\n",
    "    \n",
    "    #c가 말한 전체 단어의 갯수 \n",
    "    sum = np.sum(input_word_matrix[character_c], axis=0) \n",
    "    \n",
    "    return num/sum"
   ]
  },
  {
   "cell_type": "code",
   "execution_count": 17,
   "metadata": {
    "deletable": false,
    "editable": false,
    "nbgrader": {
     "grade": true,
     "grade_id": "tf_def_test",
     "locked": true,
     "points": 10,
     "schema_version": 3,
     "solution": false
    }
   },
   "outputs": [],
   "source": [
    "# This is an autograder test. Here we can test the function you just wrote above.\n",
    "\"\"\"Check that `tf` returns the correct output.\"\"\"\n",
    "assert (tf('hi', 3, word_matrix) * 100) > 0.10"
   ]
  },
  {
   "cell_type": "markdown",
   "metadata": {
    "deletable": false,
    "editable": false,
    "nbgrader": {
     "grade": false,
     "grade_id": "cell-21fd8ca300d881a3",
     "locked": true,
     "schema_version": 3,
     "solution": false
    }
   },
   "source": [
    "- - -\n",
    "<p style='text-align:right; font-size:11px'>[[contents](#contents)]</p>\n",
    "\n",
    "#### <font color='blue'> Question 2b (code completion): Character similarity w/ generalized Jaccard </font>  <a class=\"anchor\" id=\"2b\"></a>\n",
    "\n",
    "Now you will complete the function specification below, which will return a numpy array of character similarities computed via generalized Jaccard. For your convenience, here is the formulation of generalized Jaccard:\n",
    "\n",
    "$$ GJ(A, B) = \\frac{\\sum_{w \\,\\in \\text{ good types}} \\text{min}(\\text{tf}(w, A), \\text{tf}(w, B))}\n",
    "{\\sum_{w \\,\\in \\text{ good types}} \\text{max}(\\text{tf}(w, A), \\text{tf}(w, B))} $$"
   ]
  },
  {
   "cell_type": "code",
   "execution_count": 18,
   "metadata": {
    "deletable": false,
    "nbgrader": {
     "grade": false,
     "grade_id": "create_g_j_sim_mat",
     "locked": false,
     "schema_version": 3,
     "solution": true
    }
   },
   "outputs": [],
   "source": [
    "def create_g_j_sim_mat(tf_method, input_word_matrix, input_good_types, input_n_speakers):\n",
    "    \"\"\"Create generalized Jaccard similarity matrix for characters.\n",
    "\n",
    "    Create generalized Jaccard similarity matrix, an np.ndarray of size (`input_n_speakers`, \n",
    "    `input_n_speakers), computing the character similarity, where the entry (i, j) indicating the \n",
    "    generalized Jaccard similarity between the speakers `i` and `j`.\n",
    "\n",
    "    Note: Try to minimize the use of `tf_method`.\n",
    "\n",
    "    Parameters\n",
    "    ----------\n",
    "    tf_method : function\n",
    "        A method to compute the term frequency weight for a given word and character. \n",
    "    input_word_matrix : np.ndarray\n",
    "        The word occurrence matrix of (`n_good_speakers`, `n_good_types`), with the entry (i, j)\n",
    "        indicating how often the speaker `i` utters word `j`.\n",
    "    input_good_types : list\n",
    "        An alphabetically-sorted list of all the words that appear in more than one episode \n",
    "        (referred to as \"good types\" in assignment 1).\n",
    "    input_n_speakers : int\n",
    "        The number of input speakers to be chosen in constructing the generalized Jaccard similarity\n",
    "        matrix.\n",
    "\n",
    "    Returns\n",
    "    -------\n",
    "    np.ndarray\n",
    "        The generalized Jaccard similarity matrix of (`input_n_speakers`, `input_n_speakers`), with \n",
    "        the entry (i, j) indicating the generalized Jaccard similarity between the speakers `i` and\n",
    "        `j`.\n",
    "    \"\"\"\n",
    "    # YOUR CODE GOES HERE\n",
    "    \n",
    "    returnMatrix = np.zeros((input_n_speakers, input_n_speakers))\n",
    "    \n",
    "    for a in range(input_n_speakers): # a = speaker index A\n",
    "        for b in range(input_n_speakers):\n",
    "            \n",
    "            num = 0 \n",
    "            denom = 0 \n",
    "            for w in input_good_types: #w = word 그 잡채 \n",
    "                tfA = tf_method(w,a,input_word_matrix)\n",
    "                tfB = tf_method(w,b,input_word_matrix)\n",
    "            \n",
    "                num += min(tfA,tfB)\n",
    "                denom += max(tfA,tfB)\n",
    "                \n",
    "            returnMatrix[a][b] = num/denom\n",
    "            \n",
    "    return returnMatrix"
   ]
  },
  {
   "cell_type": "code",
   "execution_count": 19,
   "metadata": {
    "deletable": false,
    "editable": false,
    "nbgrader": {
     "grade": false,
     "grade_id": "cell-5b20f9c68ba808c0",
     "locked": true,
     "schema_version": 3,
     "solution": false
    }
   },
   "outputs": [],
   "source": [
    "g_j_sim_matrix = create_g_j_sim_mat(tf, word_matrix, good_types, n_good_speakers)\n",
    "g_avg_jaccard_sim_dict = avg_sim_dict(g_j_sim_matrix, good_speakers)"
   ]
  },
  {
   "cell_type": "code",
   "execution_count": 20,
   "metadata": {
    "deletable": false,
    "editable": false,
    "nbgrader": {
     "grade": false,
     "grade_id": "cell-2d1a780bc392a053",
     "locked": true,
     "schema_version": 3,
     "solution": false
    }
   },
   "outputs": [
    {
     "name": "stdout",
     "output_type": "stream",
     "text": [
      "MOST UNIQUE: JONATHAN - 0.54\n",
      "LEAST UNIQUE: ROBERT - 0.57\n"
     ]
    }
   ],
   "source": [
    "g_most_least_tup = most_least_unique_characters(g_avg_jaccard_sim_dict)\n",
    "print(\"MOST UNIQUE: {} - {:.2f}\".format(*g_most_least_tup[0]))\n",
    "print(\"LEAST UNIQUE: {} - {:.2f}\".format(*g_most_least_tup[1]))"
   ]
  },
  {
   "cell_type": "code",
   "execution_count": 21,
   "metadata": {
    "deletable": false,
    "editable": false,
    "nbgrader": {
     "grade": true,
     "grade_id": "create_g_j_sim_mat_test",
     "locked": true,
     "points": 25,
     "schema_version": 3,
     "solution": false
    }
   },
   "outputs": [],
   "source": [
    "# This is an autograder test. Here we can test the function you just wrote above.\n",
    "\"\"\"Check that `create_g_j_sim_mat` returns the correct output.\"\"\"\n",
    "assert type(g_j_sim_matrix) == np.ndarray\n",
    "assert g_j_sim_matrix.shape == (8, 8)\n",
    "assert type(g_avg_jaccard_sim_dict) == dict\n",
    "assert g_j_sim_matrix[4][4] == 1\n",
    "assert_almost_equal(round(g_j_sim_matrix[2][5], 1), 0.7)\n",
    "assert g_avg_jaccard_sim_dict['JONATHAN'] > 0.5\n",
    "assert g_avg_jaccard_sim_dict['KHLOE'] > 0.6"
   ]
  },
  {
   "cell_type": "code",
   "execution_count": 22,
   "metadata": {
    "deletable": false,
    "editable": false,
    "nbgrader": {
     "grade": true,
     "grade_id": "g_most_least_tup_test",
     "locked": true,
     "points": 5,
     "schema_version": 3,
     "solution": false
    }
   },
   "outputs": [],
   "source": [
    "# This is an autograder test. Here we can test the function you just wrote above.\n",
    "\"\"\"Check that `create_g_j_sim_mat` and `most_least_sim_pairs` returns the correct output.\"\"\"\n",
    "assert g_most_least_tup[0][0] == 'JONATHAN'"
   ]
  },
  {
   "cell_type": "code",
   "execution_count": 23,
   "metadata": {
    "deletable": false,
    "editable": false,
    "nbgrader": {
     "grade": false,
     "grade_id": "cell-8336e767a99f80fc",
     "locked": true,
     "schema_version": 3,
     "solution": false
    }
   },
   "outputs": [
    {
     "data": {
      "image/png": "[encoded data removed]",
      "text/plain": [
       "<Figure size 360x360 with 2 Axes>"
      ]
     },
     "metadata": {
      "image/png": {
       "height": 327,
       "width": 349
      },
      "needs_background": "light"
     },
     "output_type": "display_data"
    }
   ],
   "source": [
    "plt.figure(figsize=(5, 5))\n",
    "plt.imshow(g_j_sim_matrix, interpolation='none', cmap=plt.cm.Blues, vmin=0, vmax=1)\n",
    "plt.colorbar()\n",
    "\n",
    "plt.xticks(range(n_good_speakers), good_speakers, rotation=90)\n",
    "plt.yticks(range(n_good_speakers), good_speakers)\n",
    "plt.show()"
   ]
  },
  {
   "cell_type": "markdown",
   "metadata": {
    "deletable": false,
    "editable": false,
    "nbgrader": {
     "grade": false,
     "grade_id": "cell-c0a9db5c65324342",
     "locked": true,
     "schema_version": 3,
     "solution": false
    }
   },
   "source": [
    "- - -\n",
    "<p style='text-align:right; font-size:11px'>[[contents](#contents)]</p>\n",
    "\n",
    "#### <font color='green'> Question 2c (free response): Character similarity w/ Jaccard vs. generalized Jaccard </font>  <a class=\"anchor\" id=\"2c\"></a>\n",
    "\n",
    "Isn't it cool how we are able to analyze character similarity using just conversational data?! Be sure to investigate how the generalized Jaccard similarity matrix differs from the standard Jaccard matrix and how the character similarity pairs change. \n",
    "\n",
    "In the cell below, please use Markdown to note any differences that you observed between the heatmaps generated with Jaccard and generalized Jaccard similarity measurements."
   ]
  },
  {
   "cell_type": "markdown",
   "metadata": {
    "deletable": false,
    "nbgrader": {
     "grade": true,
     "grade_id": "cell-72d857e373a7132c",
     "locked": false,
     "points": 5,
     "schema_version": 3,
     "solution": true
    }
   },
   "source": [
    "**Solution**: In general, I notice that the heatmap of the standard Jaccard similarity matrix is lighter than the generalized Jaccard similarity. This means that the generalized one captures more similarities than the standard one. This makes sense because we incorporated \"how often the characters say a word\" in the generalized one which leads to capturing more similarity. To be specific with some characters, I observe that the similarity between Kris and Robert and Krist and Scott have changed. Whereas Kris had more similarity with Robert than Scott in standard, Kris is more similar to Scott according to the generalized one."
   ]
  },
  {
   "cell_type": "markdown",
   "metadata": {
    "deletable": false,
    "editable": false,
    "nbgrader": {
     "grade": false,
     "grade_id": "cell-615783f3319cb408",
     "locked": true,
     "schema_version": 3,
     "solution": false,
     "task": false
    }
   },
   "source": [
    "- - -\n",
    "<p style='text-align:right; font-size:11px'>[[contents](#contents)]</p>\n",
    "\n",
    "### Character-pair analysis  <a class=\"anchor\" id=\"3\"></a>\n",
    "\n",
    "#### <font color='blue'> Question 3a (code completion): Character-pair analysis w/ generalized Jaccard </font> <a class=\"anchor\" id=\"3a\"></a>\n",
    "\n",
    "Leveraging the generalized Jaccard similarity matrix, `g_j_sim_matrix`, you will be measuring the relative similarity of \"good speakers.\" The goal of this analysis is to determine which speaker is the most similar to everyone else, and which one is the least similar to everyone else.\n",
    "\n",
    "To start, we'll build a list of floats of size `input_n_speakers` that corresponds to the average (mean) similarity between that character and all the rest of the characters (not including self-similarity). In the cell below, satisfy the specification and ensure that you leverage numpy primitives."
   ]
  },
  {
   "cell_type": "code",
   "execution_count": 24,
   "metadata": {
    "deletable": false,
    "nbgrader": {
     "grade": false,
     "grade_id": "avg_sims",
     "locked": false,
     "schema_version": 3,
     "solution": true,
     "task": false
    }
   },
   "outputs": [],
   "source": [
    "def create_avg_sims(input_g_sim):\n",
    "    \"\"\"Compute average similarity between a speaker and others, for all speakers.\n",
    "    \n",
    "    Returns a np.ndarray (of size equal to the number of input speakers, `input_n_speakers`) that\n",
    "    gives the average (mean) similarity between speaker `i` and everybody except the speaker itself.\n",
    "    \n",
    "    Hint: To help you out, here are a few numpy operations that might be useful: np.sum, np.average.\n",
    "    \n",
    "    Parameters\n",
    "    ----------\n",
    "    input_g_sim : np.ndarray\n",
    "        The generalized Jaccard similarity matrix of (`input_n_speakers`, `input_n_speakers`), with \n",
    "        the entry (i, j) indicating the generalized Jaccard similarity between the speakers `i` and\n",
    "        `j`.\n",
    "    \n",
    "    Returns\n",
    "    -------\n",
    "    np.ndarray\n",
    "        An array that gives the average (mean) similarity between speaker `i` and everybody except \n",
    "        the speaker itself, for all the speakers.\n",
    "    \"\"\"\n",
    "    # YOUR CODE GOES HERE\n",
    "    \n",
    "    returnMatrix = np.zeros(len(input_g_sim))\n",
    "    \n",
    "    for a in range(len(input_g_sim)):\n",
    "        for b in range(len(input_g_sim)):\n",
    "         \n",
    "            sum = np.sum(input_g_sim, axis=0) #obtain the sum of the row \n",
    "            avg = (sum[a] - input_g_sim[a][a]) / (len(input_g_sim) -1)         \n",
    "         \n",
    "        returnMatrix[a] = avg\n",
    "                   \n",
    "    return returnMatrix"
   ]
  },
  {
   "cell_type": "code",
   "execution_count": 25,
   "metadata": {
    "deletable": false,
    "editable": false,
    "nbgrader": {
     "grade": false,
     "grade_id": "cell-5e91c854776e1199",
     "locked": true,
     "schema_version": 3,
     "solution": false,
     "task": false
    }
   },
   "outputs": [],
   "source": [
    "avg_sims = create_avg_sims(g_j_sim_matrix)"
   ]
  },
  {
   "cell_type": "code",
   "execution_count": 26,
   "metadata": {
    "deletable": false,
    "editable": false,
    "nbgrader": {
     "grade": true,
     "grade_id": "avg_sims_test",
     "locked": true,
     "points": 5,
     "schema_version": 3,
     "solution": false,
     "task": false
    }
   },
   "outputs": [],
   "source": [
    "# This is an autograder test. Here we can test the function you just wrote above.\n",
    "\"\"\"Check that `create_avg_sims` returns the correct output\"\"\"\n",
    "assert type(avg_sims) == np.ndarray\n",
    "assert avg_sims.shape == (8, )\n",
    "assert sum(avg_sims) < 5"
   ]
  },
  {
   "cell_type": "markdown",
   "metadata": {
    "deletable": false,
    "editable": false,
    "nbgrader": {
     "grade": false,
     "grade_id": "cell-b1fc0cd66dc62568",
     "locked": true,
     "schema_version": 3,
     "solution": false,
     "task": false
    }
   },
   "source": [
    "- - -\n",
    "<p style='text-align:right; font-size:11px'>[[contents](#contents)]</p>\n",
    "\n",
    "#### <font color='blue'> Question 3b (code completion): Relative speaker uniqueness </font> <a class=\"anchor\" id=\"3b\"></a>\n",
    "\n",
    "This specific analysis concludes with the determination of which characters are the most and least similar to everyone else. In the cell bellow satisfy the above specification by returning a tuple in the following format:\n",
    "```json\n",
    "(MOST_SIMILAR_CHARACTER_NAME, LEAST_SIMILAR_CHARACTER_NAME)\n",
    "```"
   ]
  },
  {
   "cell_type": "code",
   "execution_count": 27,
   "metadata": {
    "deletable": false,
    "nbgrader": {
     "grade": false,
     "grade_id": "most_least_char_sim",
     "locked": false,
     "schema_version": 3,
     "solution": true,
     "task": false
    }
   },
   "outputs": [],
   "source": [
    "def most_least_char_sim(input_avg_sims, input_good_speakers):\n",
    "    \"\"\"Identify the most and least similar characters.\n",
    "    \n",
    "    Returns a tuple that reveals the most and least similar characters, relative to the rest of the\n",
    "    characters in `input_good_speakers`. \n",
    "\n",
    "    The desired tuple format should be the following:\n",
    "    ```(MOST_SIMILAR_CHARACTER_NAME, LEAST_SIMILAR_CHARACTER_NAME)```.\n",
    "    \n",
    "    Parameters\n",
    "    ----------\n",
    "    input_avg_sims : np.ndarray\n",
    "        An array that gives the average (mean) similarity between speaker `i` and everybody except \n",
    "        the speaker itself, for all the speakers.\n",
    "    input_good_speakers : list\n",
    "        A list of chosen \"good\" speakers.\n",
    "        \n",
    "    Returns\n",
    "    -------\n",
    "    tuple\n",
    "        A tuple of most and least similar characters, relative to the rest of the characters. \n",
    "    \"\"\"\n",
    "    # YOUR CODE GOES HERE\n",
    "    \n",
    "    d = dict()\n",
    "    for i,speaker in enumerate(input_good_speakers):\n",
    "        d[speaker] = input_avg_sims[i]\n",
    "    \n",
    "    sortedDict = sorted(d.items(), key=lambda x:x[1])\n",
    "\n",
    "    return( (sortedDict[-1][0],sortedDict[0][0]) )"
   ]
  },
  {
   "cell_type": "code",
   "execution_count": 28,
   "metadata": {
    "deletable": false,
    "editable": false,
    "nbgrader": {
     "grade": false,
     "grade_id": "cell-6e26b1b6618bfe95",
     "locked": true,
     "schema_version": 3,
     "solution": false,
     "task": false
    }
   },
   "outputs": [
    {
     "name": "stdout",
     "output_type": "stream",
     "text": [
      "MOST SIMILAR: KHLOE\n",
      "LEAST SIMILAR: JONATHAN\n"
     ]
    }
   ],
   "source": [
    "sim_pairs = most_least_char_sim(avg_sims, good_speakers)\n",
    "print(\"MOST SIMILAR: %s\" % sim_pairs[0])\n",
    "print(\"LEAST SIMILAR: %s\" % sim_pairs[1])"
   ]
  },
  {
   "cell_type": "code",
   "execution_count": 29,
   "metadata": {
    "deletable": false,
    "editable": false,
    "nbgrader": {
     "grade": true,
     "grade_id": "most_least_char_sim_test",
     "locked": true,
     "points": 5,
     "schema_version": 3,
     "solution": false,
     "task": false
    }
   },
   "outputs": [],
   "source": [
    "# This is an autograder test. Here we can test the function you just wrote above.\n",
    "\"\"\"Check that `most_least_char_sim` returns the correct output.\"\"\"\n",
    "assert type(sim_pairs) == tuple\n",
    "assert len(sim_pairs) == 2"
   ]
  },
  {
   "cell_type": "markdown",
   "metadata": {
    "deletable": false,
    "editable": false,
    "nbgrader": {
     "grade": false,
     "grade_id": "cell-e97ebdf7c36c1cae",
     "locked": true,
     "schema_version": 3,
     "solution": false
    }
   },
   "source": [
    "- - -\n",
    "<p style='text-align:right; font-size:11px'>[[contents](#contents)]</p>\n",
    "\n",
    "### Character interactions <a class=\"anchor\" id=\"4\"></a>\n",
    "\n",
    "In this section we will make the assumption that, if speaker B says something immediately after speaker A, then it is in reply to speaker A's utterance. While this assumption is not correct in all cases (particularly for noisy transcript data), it should still give us some insight into how our characters are behaving. In many cases, making reasonable assumptions about your data can lead to new insights.\n",
    "\n",
    "#### <font color='blue'> Question 4a (code completion): Character replies </font> <a class=\"anchor\" id=\"4a\"></a>\n",
    "\n",
    "In this question, we will be looking at how often each character replies to every other character. Note that here, we consider B to be replying to A **only when speaker A gets a reply from speaker B in the next utterance**. Do not merge consecutive lines by the same speaker as the same speech/reply. For instance, in the example:\n",
    "\n",
    "```json\n",
    "Line 1: {speaker: A, text: ...}\n",
    "Line 2: {speaker: A, text: ...}\n",
    "Line 3: {speaker: B, text: ...}\n",
    "Line 4: {speaker: B, text: ...}\n",
    "```\n",
    "Only line 3 should be considered a reply from speaker B to speaker A. Line 4 should NOT be considered (part of) a reply from speaker B to speaker A."
   ]
  },
  {
   "cell_type": "code",
   "execution_count": 30,
   "metadata": {
    "deletable": false,
    "nbgrader": {
     "grade": false,
     "grade_id": "create_reply_matrix",
     "locked": false,
     "schema_version": 3,
     "solution": true
    }
   },
   "outputs": [],
   "source": [
    "def create_reply_matrix(input_deduped_transcripts, input_good_speakers, input_n_speakers):\n",
    "    \"\"\"Create a reply matrix for character interactions.\n",
    "    \n",
    "    Returns a np.ndarray of shape (`input_n_speakers`, `input_n_speakers`) such that an entry (i, j)\n",
    "    indicates the number of times speaker `j` replied to speaker `i`.\n",
    "    \n",
    "    Parameters\n",
    "    ----------\n",
    "    input_deduped_transcripts : list\n",
    "        The list of input deduped transcripts, loaded from assignment 1.\n",
    "    input_good_speakers : list\n",
    "        A list of chosen \"good\" speakers.\n",
    "    input_n_speakers : int\n",
    "        The number of input speakers to be chosen in constructing the reply matrix (essentially, the\n",
    "        number of good speakers).\n",
    "    \n",
    "    Returns\n",
    "    -------\n",
    "    np.ndarray\n",
    "        The reply matrix of shape (`input_n_speakers`, `input_n_speakers`) such that an entry (i, j)\n",
    "        indicates the number of times speaker `j` replied to speaker `i`.\n",
    "    \"\"\"\n",
    "    # YOUR CODE GOES HERE\n",
    "    \n",
    "    returnMatrix = np.zeros((input_n_speakers, input_n_speakers ))\n",
    "    \n",
    "    for transcript in input_deduped_transcripts :\n",
    "        \n",
    "        for i,line in enumerate(transcript[1]): #transcript 한 줄 \n",
    "            if i == 0: continue\n",
    "            speakerA = transcript[1][i-1][\"speaker\"] #speakerA=String\n",
    "            speakerB = line[\"speaker\"]\n",
    "            if speakerA != speakerB and speakerA in input_good_speakers and speakerB in input_good_speakers:\n",
    "                speakerAindex = input_good_speakers.index(speakerA)\n",
    "                speakerBindex = input_good_speakers.index(speakerB)\n",
    "                returnMatrix[speakerAindex][speakerBindex] += 1 \n",
    "                    \n",
    "    return returnMatrix"
   ]
  },
  {
   "cell_type": "code",
   "execution_count": 31,
   "metadata": {
    "deletable": false,
    "editable": false,
    "nbgrader": {
     "grade": false,
     "grade_id": "cell-84339eb4c4a375d0",
     "locked": true,
     "schema_version": 3,
     "solution": false
    }
   },
   "outputs": [],
   "source": [
    "reply_matrix = create_reply_matrix(deduped_transcripts, good_speakers, n_good_speakers)"
   ]
  },
  {
   "cell_type": "code",
   "execution_count": 32,
   "metadata": {
    "deletable": false,
    "editable": false,
    "nbgrader": {
     "grade": true,
     "grade_id": "create_reply_matrix_test",
     "locked": true,
     "points": 20,
     "schema_version": 3,
     "solution": false
    }
   },
   "outputs": [],
   "source": [
    "# This is an autograder test. Here we can test the function you just wrote above.\n",
    "\"\"\"Check that `create_reply_matrix` returns the correct output.\"\"\"\n",
    "assert type(reply_matrix) == np.ndarray\n",
    "assert reply_matrix.shape == (8, 8)\n",
    "assert reply_matrix[1][1] == 0\n",
    "assert sum(reply_matrix[2]) > 2500\n",
    "assert sum(reply_matrix[6]) < 950"
   ]
  },
  {
   "cell_type": "code",
   "execution_count": 33,
   "metadata": {
    "deletable": false,
    "editable": false,
    "nbgrader": {
     "grade": false,
     "grade_id": "cell-c355fbc77afe4f74",
     "locked": true,
     "schema_version": 3,
     "solution": false
    }
   },
   "outputs": [
    {
     "data": {
      "image/png": "[encoded data removed]",
      "text/plain": [
       "<Figure size 360x360 with 2 Axes>"
      ]
     },
     "metadata": {
      "image/png": {
       "height": 323,
       "width": 353
      },
      "needs_background": "light"
     },
     "output_type": "display_data"
    }
   ],
   "source": [
    "plt.figure(figsize=(5, 5))\n",
    "plt.imshow(reply_matrix, interpolation='none', cmap=plt.cm.Blues)\n",
    "plt.colorbar()\n",
    "\n",
    "plt.xticks(range(n_good_speakers), good_speakers, rotation=90)\n",
    "plt.yticks(range(n_good_speakers), good_speakers)\n",
    "plt.show()"
   ]
  },
  {
   "cell_type": "markdown",
   "metadata": {
    "deletable": false,
    "editable": false,
    "nbgrader": {
     "grade": false,
     "grade_id": "cell-f016295a5274aaba",
     "locked": true,
     "schema_version": 3,
     "solution": false
    }
   },
   "source": [
    "- - -\n",
    "<p style='text-align:right; font-size:11px'>[[contents](#contents)]</p>\n",
    "\n",
    "#### <font color='green'> Question 4b (free response): Communication between characters </font> <a class=\"anchor\" id=\"4b\"></a>\n",
    "\n",
    "In the cell below, use Markdown to describe anything that you notice about the heatmap generated from ``reply_matrix``. What do you notice about the communication between certain characters?"
   ]
  },
  {
   "cell_type": "markdown",
   "metadata": {
    "deletable": false,
    "nbgrader": {
     "grade": true,
     "grade_id": "create_reply_matrix_ans",
     "locked": false,
     "points": 5,
     "schema_version": 3,
     "solution": true
    }
   },
   "source": [
    "**Solution**: I noticed that the heatmap is symmetric. It tells us that characters make the conversation, talking back and forth. For instance, Khole makes the most reply to Kourtney and vice versa. Khole is very active in making replies and receiving replies from other characters such as Bruce, Kim, Kourtney, and Kris. In contrast, Jonathan is least active in both receiving and replying to others. I guess Jonathan is not in a position to reply or get a reply from other characters"
   ]
  },
  {
   "cell_type": "markdown",
   "metadata": {
    "deletable": false,
    "editable": false
   },
   "source": [
    "- - -\n",
    "<p style=\"text-align:left;\"> assignment-2 [PART 1] ends here <span style=\"float:right;font-size:11px;\"> [[contents](#contents)] </span></p>\n",
    "- - -"
   ]
  },
  {
   "cell_type": "markdown",
   "metadata": {
    "deletable": false,
    "editable": false
   },
   "source": [
    "<p style='text-align:right; font-size:11px'>[[contents](#contents)]</p>\n",
    "\n",
    "### [PART 2] Interaction strength and social interaction patterns <a class=\"anchor\" id=\"part2\"></a>\n",
    "> <font color='red'>due 02/15 11:59pm</font>\n",
    "\n",
    "<u>Note</u>: Please ensure to have run [all the cells above](#part1) before proceeding further."
   ]
  },
  {
   "cell_type": "markdown",
   "metadata": {
    "deletable": false,
    "editable": false,
    "nbgrader": {
     "grade": false,
     "grade_id": "cell-5f9d8e30994a306f",
     "locked": true,
     "schema_version": 3,
     "solution": false
    }
   },
   "source": [
    "- - -\n",
    "<p style='text-align:right; font-size:11px'>[[contents](#contents)]</p>\n",
    "\n",
    "### Character-pair specific reply diction <a class=\"anchor\" id=\"5\"></a>\n",
    "\n",
    "#### <font color='blue'> Question 5a (code completion): Words used most specifically by pairs of characters </font> <a class=\"anchor\" id=\"5a\"></a>\n",
    "\n",
    "For this analysis, we will take only the pairs of characters that exchanged at least `min_exchange_messages` number of messages (e.g., 350 messages) between them (*good pairs*), in either direction. For example (in case of 350 messages), Speaker A and Speaker B are a *good pair* if A replies to B 175 times and B replies to A 175 times.\n",
    "\n",
    "We will represent these *good pairs* as tuple pairs of character names (ordered alphabetically) and build a matrix where the rows correspond to the pairs, and the columns to the *good type* words.\n",
    "\n",
    "You will begin by satisfying the specification in the cell below and determining the good pairs. The return type of the function will be a list of tuples in the following format:\n",
    "```json\n",
    "[(CHARACTER_NAME_A, CHARACTER_NAME_B),\n",
    " (CHARACTER_NAME_A, CHARACTER_NAME_C),\n",
    " ...\n",
    "]\n",
    "```\n",
    "\n",
    "**Note: We will be numerically sorting the good pairs later.**\n",
    "\n",
    "Hint: You are to only look at the interaction between the pairs, not all words each person says. As such you should be only relying on the `reply_matrix`. "
   ]
  },
  {
   "cell_type": "code",
   "execution_count": null,
   "metadata": {
    "deletable": false,
    "nbgrader": {
     "grade": false,
     "grade_id": "create_good_pairs",
     "locked": false,
     "schema_version": 3,
     "solution": true
    }
   },
   "outputs": [],
   "source": [
    "def create_good_pairs(input_reply_matrix,\n",
    "                      input_good_speakers,\n",
    "                      input_n_speakers,\n",
    "                      min_exchange_messages=350):\n",
    "    \"\"\"Create \"good pairs\" based on the number of messages exchanged.\n",
    "    \n",
    "    Returns a tuple list of good pairs in the following format:\n",
    "    ```[(CHARACTER_NAME_A, CHARACTER_NAME_B), (CHARACTER_NAME_A, CHARACTER_NAME_C), ...]```.\n",
    "    \n",
    "    Note: Good pairs are bi-directional and should be included only once. That is, if (A, B) is in \n",
    "    the list, (B, A) should not be. Names should be ordered alphbetically within each tuple. Also,\n",
    "    sorting the good pairs need not be handled in this function.\n",
    "    \n",
    "    Parameters\n",
    "    ----------\n",
    "    input_reply_matrix : np.ndarray\n",
    "        The reply matrix of shape (`input_n_speakers`, `input_n_speakers`) such that an entry (i, j)\n",
    "        indicates the number of times speaker `j` replied to speaker `i`.\n",
    "    input_good_speakers : list\n",
    "        A list of chosen \"good\" speakers.\n",
    "    input_n_speakers : int\n",
    "        The number of input speakers to be chosen in constructing the good pairs (essentially, the\n",
    "        number of good speakers).\n",
    "    min_exchange_messages : int\n",
    "        The minimum number of messages to be exchanged between a character pair for them to be \n",
    "        considered a \"good pair\" (defaults to 350).\n",
    "    \n",
    "    Returns\n",
    "    -------\n",
    "    list\n",
    "        A list of tuples of good pairs, based on the number of messages exchanged.\n",
    "    \"\"\"\n",
    "    # YOUR CODE GOES HERE\n",
    "    raise NotImplementedError()"
   ]
  },
  {
   "cell_type": "code",
   "execution_count": null,
   "metadata": {
    "deletable": false,
    "editable": false,
    "nbgrader": {
     "grade": false,
     "grade_id": "cell-b9c7345102664b1f",
     "locked": true,
     "schema_version": 3,
     "solution": false
    }
   },
   "outputs": [],
   "source": [
    "good_pairs = create_good_pairs(reply_matrix, good_speakers, n_good_speakers)\n",
    "good_pairs.sort()"
   ]
  },
  {
   "cell_type": "code",
   "execution_count": null,
   "metadata": {
    "deletable": false,
    "editable": false,
    "nbgrader": {
     "grade": true,
     "grade_id": "create_good_pairs_test",
     "locked": true,
     "points": 10,
     "schema_version": 3,
     "solution": false
    }
   },
   "outputs": [],
   "source": [
    "# This is an autograder test. Here we can test the function you just wrote above.\n",
    "\"\"\"Check that `create_good_pairs` returns the correct output.\"\"\"\n",
    "assert type(good_pairs) == list\n",
    "assert len(good_pairs) < 15 and len(good_pairs) > 10\n",
    "assert good_pairs[0] == tuple(sorted(good_pairs[0]))\n",
    "assert (reply_matrix[tuple([good_speakers.index(s) for s in good_pairs[0]])] +\n",
    "        reply_matrix[tuple([good_speakers.index(s) for s in good_pairs[0]][::-1])]) >= 350"
   ]
  },
  {
   "cell_type": "code",
   "execution_count": null,
   "metadata": {
    "deletable": false,
    "editable": false,
    "nbgrader": {
     "grade": false,
     "grade_id": "cell-19eb2fac94e305b1",
     "locked": true,
     "schema_version": 3,
     "solution": false
    }
   },
   "outputs": [],
   "source": [
    "# To help you for the next couple of functions. We recommend you use the following variables\n",
    "# as well as the good_type_reverse_index variable defined before\n",
    "n_good_pairs = len(good_pairs)\n",
    "good_pairs_reverse_index = {t: i for i, t in enumerate(good_pairs)}\n",
    "\n",
    "\n",
    "# We have attached a tokenize method that you should use below:\n",
    "def tokenize(text):\n",
    "    \"\"\"Returns a list of words that make up the text.    \n",
    "    \n",
    "    Parameters\n",
    "    ----------\n",
    "    text : str\n",
    "        The input text string\n",
    "    \n",
    "    Returns\n",
    "    -------\n",
    "    list\n",
    "        A list of tokens corresponding to the input string.\n",
    "    \"\"\"\n",
    "    return [x for x in re.findall(r\"[a-z]+\", text.lower())]"
   ]
  },
  {
   "cell_type": "markdown",
   "metadata": {
    "deletable": false,
    "editable": false,
    "nbgrader": {
     "grade": false,
     "grade_id": "cell-5fabc69e0e911f87",
     "locked": true,
     "schema_version": 3,
     "solution": false
    }
   },
   "source": [
    "- - -\n",
    "<p style='text-align:right; font-size:11px'>[[contents](#contents)]</p>\n",
    "\n",
    "#### <font color='blue'> Question 5b (code completion): Building character-pair word occurrence matrix </font> <a class=\"anchor\" id=\"5b\"></a>\n",
    "\n",
    "As we continue the analysis we hope to build a character-pair word occurrence matrix. This matrix has rows that correspond to *good pairs* and columns that correspond to *good type* words. \n",
    "\n",
    "Note that here, like in [Question 3a](#3a), we consider B to be replying to A **only when speaker A gets a reply from speaker B in the next utterance**. Do not merge consecutive lines by the same speaker as the same speech/reply. For instance, in the example:\n",
    "```json\n",
    "Line 1: {speaker: A, text: ...}\n",
    "Line 2: {speaker: A, text: ...}\n",
    "Line 3: {speaker: B, text: ...}\n",
    "Line 4: {speaker: B, text: ...}\n",
    "Line 5: {speaker: A, text: ...}\n",
    "```\n",
    "If (A, B) is a *good pair*, then\n",
    "* Line 3 should be included in (A, B)'s reply diction.\n",
    "* Line 5 should be included in (A, B)'s reply diction.\n",
    "\n",
    "As such, in the cell below, fulfill the specification to build this (`input_n_good_pairs`, `input_n_good_types`) matrix:"
   ]
  },
  {
   "cell_type": "code",
   "execution_count": null,
   "metadata": {
    "deletable": false,
    "nbgrader": {
     "grade": false,
     "grade_id": "pair_words_mat",
     "locked": false,
     "schema_version": 3,
     "solution": true
    }
   },
   "outputs": [],
   "source": [
    "def create_pair_words_mat(input_tokenize_method, input_deduped_transcripts, input_good_speakers,\n",
    "                          input_n_speakers, input_n_good_types, input_n_good_pairs):\n",
    "    \"\"\"Create character-pair word occurrence matrix.\n",
    "    \n",
    "    Returns a np.ndarray of shape (`input_n_good_pairs`, `input_n_good_types`) such that the entry\n",
    "    (i, j) indicates how many times pair `i` has replied good type word `j`.\n",
    "    \n",
    "    Hint: Use the global variables `good_pairs_reverse_index` and `good_types_reverse_index`.\n",
    "    \n",
    "    Parameters\n",
    "    ----------\n",
    "    input_tokenize_method : function\n",
    "        A method that tokenizes the input text into tokens.\n",
    "    input_deduped_transcripts : list\n",
    "        The list of input deduped transcripts, loaded from assignment 1.\n",
    "    input_good_speakers : list\n",
    "        A list of chosen \"good\" speakers.\n",
    "    input_n_speakers : int\n",
    "        The number of input speakers to be chosen in constructing the matrix (essentially, the \n",
    "        number of good speakers).\n",
    "    input_n_good_types : int\n",
    "        The number of input good type words.\n",
    "    input_n_good_pairs : int\n",
    "        The number of input good character pairs.\n",
    "    \n",
    "    Returns\n",
    "    -------\n",
    "    np.ndarray\n",
    "        An array of shape (`input_n_good_pairs`, `input_n_good_pairs`) such that the entry (i, j) \n",
    "        indicates how many times pair `i` has replied good type word `j`.\n",
    "    \"\"\"\n",
    "    # YOUR CODE GOES HERE\n",
    "    raise NotImplementedError()"
   ]
  },
  {
   "cell_type": "code",
   "execution_count": null,
   "metadata": {
    "deletable": false,
    "editable": false,
    "nbgrader": {
     "grade": false,
     "grade_id": "cell-a409ac7edb994c37",
     "locked": true,
     "schema_version": 3,
     "solution": false
    }
   },
   "outputs": [],
   "source": [
    "pair_words_mat = create_pair_words_mat(tokenize, deduped_transcripts, good_speakers,\n",
    "                                       n_good_speakers, n_good_types, n_good_pairs)"
   ]
  },
  {
   "cell_type": "code",
   "execution_count": null,
   "metadata": {
    "deletable": false,
    "editable": false,
    "nbgrader": {
     "grade": true,
     "grade_id": "pair_words_mat_test",
     "locked": true,
     "points": 25,
     "schema_version": 3,
     "solution": false
    }
   },
   "outputs": [],
   "source": [
    "# This is an autograder test. Here we can test the function you just wrote above.\n",
    "\"\"\"Check that `create_pair_words_mat` returns the correct output.\"\"\"\n",
    "assert type(pair_words_mat) == np.ndarray\n",
    "assert pair_words_mat.shape == (n_good_pairs, n_good_types)\n",
    "assert sum(pair_words_mat[5]) > 2000\n",
    "assert sum(pair_words_mat[:, 8]) == 0"
   ]
  },
  {
   "cell_type": "markdown",
   "metadata": {
    "deletable": false,
    "editable": false,
    "nbgrader": {
     "grade": false,
     "grade_id": "cell-a31f009ab89f552c",
     "locked": true,
     "schema_version": 3,
     "solution": false
    }
   },
   "source": [
    "- - -\n",
    "<p style='text-align:right; font-size:11px'>[[contents](#contents)]</p>\n",
    "\n",
    "#### <font color='blue'> Question 5c (code completion): Weighting the character-pair word occurrences </font> <a class=\"anchor\" id=\"5c\"></a>\n",
    "\n",
    "We will finish this analysis by reweighting the character-pair word occurrences such that each entry corresponds to the ratio between how often a given pair says a word and how often all of the *good pairs* said that word. This can be done quite simply with numpy primitives.\n",
    "\n",
    "In order to de-emphasize the ratios of rare words (i.e. words in rare contexts are more likely to occur for only a single pair), we will apply additive smoothing also known as Laplace smoothing. This means that we will add one to each character-pair word occurrence before reweighting. So, for a given word $w$, pair $p$, and character-pair word occurrence $\\text{count}(p, w)$, the weighted occurrence $W(p, w)$ is\n",
    "\n",
    "$$ W(p, w) = \\frac{\\text{count}(p, w) + 1}{\\displaystyle\\sum_{\\pi\\,\\in\\,\\text{good pairs}} \\big(\\text{count}(\\pi, w) + 1\\big)} $$\n",
    "\n",
    "Below are a few examples of how some ratios will change assuming there are 10 good pairs.\n",
    "\n",
    "$$\n",
    "\\begin{align*}\n",
    "\\frac{2}{2} = 1.0 \\rightarrow \\frac{3}{2 + 10} = 0.25;\\,\\,\\, \\frac{50}{50} = 1.0 \\rightarrow \\frac{51}{50 + 10} = 0.85;\\,\\,\\, \\frac{9}{10} = 0.9 \\rightarrow \\frac{10}{10 + 10} = 0.5\n",
    "\\end{align*}\n",
    "$$\n",
    "\n",
    "\n",
    "In the cell below, complete the specification and return the weighted words by each pair:"
   ]
  },
  {
   "cell_type": "code",
   "execution_count": null,
   "metadata": {
    "deletable": false,
    "nbgrader": {
     "grade": false,
     "grade_id": "create_weighted_words",
     "locked": false,
     "schema_version": 3,
     "solution": true
    }
   },
   "outputs": [],
   "source": [
    "def create_weighted_words(input_pair_words_mat):\n",
    "    \"\"\"Create weighted character-pair word occurrence matrix.\n",
    "    \n",
    "    Returns a np.ndarray with the same shape as `input_pair_words_mat`, such that entry (i, j) \n",
    "    indicates a weighted score showing how often a given pair replied a word.\n",
    "    \n",
    "    Note: Words may not be said by any pair.\n",
    "    Hint: Use numpy primitives to optimize this function.\n",
    "    \n",
    "    Parameters\n",
    "    ----------\n",
    "    input_pair_words_mat : np.ndarray\n",
    "        The character-pair word occurrence matrix with an entry (i, j) indicating how many times \n",
    "        pair `i` has replied good type word `j`.\n",
    "    \n",
    "    Returns\n",
    "    -------\n",
    "    np.ndarray\n",
    "        A weighted character-pair word occurrence matrix such that entry (i, j) indicates a weighted\n",
    "        score showing how often a given pair replied a word.\n",
    "    \"\"\"\n",
    "    # YOUR CODE GOES HERE\n",
    "    raise NotImplementedError()"
   ]
  },
  {
   "cell_type": "code",
   "execution_count": null,
   "metadata": {
    "deletable": false,
    "editable": false,
    "nbgrader": {
     "grade": false,
     "grade_id": "cell-4f5724c513ef12a6",
     "locked": true,
     "schema_version": 3,
     "solution": false
    }
   },
   "outputs": [],
   "source": [
    "weighted_words = create_weighted_words(pair_words_mat)"
   ]
  },
  {
   "cell_type": "code",
   "execution_count": null,
   "metadata": {
    "deletable": false,
    "editable": false,
    "nbgrader": {
     "grade": true,
     "grade_id": "create_weighted_words_test",
     "locked": true,
     "points": 10,
     "schema_version": 3,
     "solution": false
    }
   },
   "outputs": [],
   "source": [
    "# This is an autograder test. Here we can test the function you just wrote above.\n",
    "\"\"\"Check that `create_weighted_words` returns the correct output.\"\"\"\n",
    "assert type(weighted_words) == np.ndarray\n",
    "assert weighted_words.shape == (n_good_pairs, n_good_types)\n",
    "assert_almost_equal(weighted_words[-1, 1], 1 / 9)\n",
    "assert_almost_equal(round(sum(weighted_words[:, 0]), 5), 1)\n",
    "assert_almost_equal(round(sum(weighted_words[:, 2]), 5), 1)\n",
    "assert sum(weighted_words[5]) > 100"
   ]
  },
  {
   "cell_type": "markdown",
   "metadata": {
    "deletable": false,
    "editable": false,
    "nbgrader": {
     "grade": false,
     "grade_id": "cell-bb1e93bdfd9831a0",
     "locked": true,
     "schema_version": 3,
     "solution": false
    }
   },
   "source": [
    "Now, we can display the top 10 words between good pairs:"
   ]
  },
  {
   "cell_type": "code",
   "execution_count": null,
   "metadata": {
    "deletable": false,
    "editable": false,
    "nbgrader": {
     "grade": false,
     "grade_id": "cell-90bcad9f309e4870",
     "locked": true,
     "schema_version": 3,
     "solution": false
    },
    "scrolled": false
   },
   "outputs": [],
   "source": [
    "for i, j in good_pairs:\n",
    "    print(\"{}, {}\".format(i, j))\n",
    "    words = weighted_words[good_pairs_reverse_index[i, j]]\n",
    "    ranked = sorted(enumerate(words), key=lambda x: x[1], reverse=True)\n",
    "    for index, score in ranked[:10]:\n",
    "        print(\"{:.2f} {}\".format(score, good_types[index]))\n",
    "    print()"
   ]
  },
  {
   "cell_type": "markdown",
   "metadata": {
    "deletable": false,
    "editable": false,
    "nbgrader": {
     "grade": false,
     "grade_id": "cell-bb3b9eded7ff8b46",
     "locked": true,
     "schema_version": 3,
     "solution": false
    }
   },
   "source": [
    "- - -\n",
    "<p style='text-align:right; font-size:11px'>[[contents](#contents)]</p>\n",
    "\n",
    "#### <font color='green'> Question 5d (free response): Analyzing character-pair specific diction </font> <a class=\"anchor\" id=\"5d\"></a>\n",
    "\n",
    "Now we have some sensible results to understand the specific diction between character pairs. In the cell below, please use Markdown to note any interesting observations/analysis you can take-away from the results above."
   ]
  },
  {
   "cell_type": "markdown",
   "metadata": {
    "deletable": false,
    "nbgrader": {
     "grade": true,
     "grade_id": "create_weighted_words_ans",
     "locked": false,
     "points": 10,
     "schema_version": 3,
     "solution": true
    }
   },
   "source": [
    "**Solution**: YOUR ANSWER GOES HERE"
   ]
  },
  {
   "cell_type": "markdown",
   "metadata": {
    "deletable": false,
    "editable": false,
    "nbgrader": {
     "grade": false,
     "grade_id": "cell-fac92bc281288ce3",
     "locked": true,
     "schema_version": 3,
     "solution": false
    }
   },
   "source": [
    "- - -\n",
    "<p style='text-align:right; font-size:11px'>[[contents](#contents)]</p>\n",
    "\n",
    "### Strength of interactions between speaker pairs <a class=\"anchor\" id=\"6\"></a>\n",
    "\n",
    "#### <font color='blue'> Question 6a (code completion): Pair interaction strength </font> <a class=\"anchor\" id=\"6a\"></a>\n",
    "\n",
    "In this question we will look at the strength of interactions between *all good speaker pairs* and how that relates to the similarity in their speech. We define interaction strength as the number of interactions between characters.\n",
    "\n",
    "To do this, we will start by making some modifications to our `reply_matrix`. \n",
    "We want an `interaction_matrix` which includes the number of interactions between a pair of characters in total, not just the number of times a character has spoke to another character. Put another way, we want the matrix to be bi-directional and symmetric. To use our example:\n",
    "```json\n",
    "Line 1: {speaker: A, text: ...}\n",
    "Line 2: {speaker: A, text: ...}\n",
    "Line 3: {speaker: B, text: ...}\n",
    "Line 4: {speaker: B, text: ...}\n",
    "```\n",
    "Line 3 should be considered an interaction between pair (Character A, Character B) as well as pair (Character B, Character A) in the `interaction_matrix`."
   ]
  },
  {
   "cell_type": "code",
   "execution_count": null,
   "metadata": {
    "deletable": false,
    "nbgrader": {
     "grade": false,
     "grade_id": "interaction_mat",
     "locked": false,
     "schema_version": 3,
     "solution": true
    }
   },
   "outputs": [],
   "source": [
    "def create_interaction_mat(input_reply_matrix, input_n_speakers):\n",
    "    \"\"\"Create an interaction matrix.\n",
    "    \n",
    "    Returns a np.ndarray of shape (`input_n_speakers`, `input_n_speakers`), such that the entry\n",
    "    (i, j) indicates the combined number of times speaker `j` started a conversation with speaker\n",
    "    `i` and vice versa.\n",
    "    \n",
    "    Parameters\n",
    "    ----------\n",
    "    input_reply_matrix : np.ndarray\n",
    "        The reply matrix of shape (`input_n_speakers`, `input_n_speakers`) such that an entry (i, j)\n",
    "        indicates the number of times speaker `j` replied to speaker `i`.\n",
    "    input_n_speakers : int\n",
    "        The number of input speakers to be chosen in constructing the reply matrix.\n",
    "    \n",
    "    Returns\n",
    "    -------\n",
    "    np.ndarray\n",
    "        An interaction matrix, such that the entry (i, j) indicates the combined number of times \n",
    "        speaker `j` started a conversation with speaker `i` and vice versa.\n",
    "    \"\"\"\n",
    "    # YOUR CODE GOES HERE\n",
    "    raise NotImplementedError()"
   ]
  },
  {
   "cell_type": "code",
   "execution_count": null,
   "metadata": {
    "deletable": false,
    "editable": false,
    "nbgrader": {
     "grade": false,
     "grade_id": "cell-cdfe69d1b5699f45",
     "locked": true,
     "schema_version": 3,
     "solution": false
    }
   },
   "outputs": [],
   "source": [
    "interaction_matrix = create_interaction_mat(reply_matrix, n_good_speakers)"
   ]
  },
  {
   "cell_type": "code",
   "execution_count": null,
   "metadata": {
    "deletable": false,
    "editable": false,
    "nbgrader": {
     "grade": true,
     "grade_id": "interaction_mat_test",
     "locked": true,
     "points": 10,
     "schema_version": 3,
     "solution": false
    }
   },
   "outputs": [],
   "source": [
    "# This is an autograder test. Here we can test the function you just wrote above.\n",
    "\"\"\"Check that `create_exchange_mat` returns the correct output.\"\"\"\n",
    "assert type(interaction_matrix) == np.ndarray\n",
    "assert interaction_matrix.shape == (8, 8)\n",
    "assert sum(interaction_matrix[0]) > 3000 and sum(interaction_matrix[0]) < 3200\n",
    "assert sum(interaction_matrix[:, 0]) > 3000 and sum(interaction_matrix[:, 0]) < 3200"
   ]
  },
  {
   "cell_type": "markdown",
   "metadata": {
    "deletable": false,
    "editable": false,
    "nbgrader": {
     "grade": false,
     "grade_id": "cell-e24c175a4609305a",
     "locked": true,
     "schema_version": 3,
     "solution": false
    }
   },
   "source": [
    "Now let's take a look at how pair interaction strength compares with pair speech similarity. We first do this by looking at  trends for a specific character."
   ]
  },
  {
   "cell_type": "code",
   "execution_count": null,
   "metadata": {
    "deletable": false,
    "editable": false,
    "nbgrader": {
     "grade": false,
     "grade_id": "cell-edd8faee9190dc4f",
     "locked": true,
     "schema_version": 3,
     "solution": false
    },
    "scrolled": false
   },
   "outputs": [],
   "source": [
    "def character_interaction_similarity_plot(input_interaction_matrix, input_similarity_matrix,\n",
    "                                          input_character):\n",
    "    \"\"\"Plot the interaction-similarity relation for an `input_character`.\n",
    "    \n",
    "    x-axis: lists `good_speakers` in the order of high to low interaction with `input_character`.\n",
    "    y-axis: generalized Jaccard similarity between each `good_speaker` and `input_character` pair.\n",
    "    \n",
    "    Parameters\n",
    "    ----------\n",
    "    input_interaction_matrix : np.ndarray\n",
    "        An interaction matrix of shape (`input_n_good_pairs`, `input_n_good_pairs`), such that the\n",
    "        entry (i, j) indicates the combined number of times speaker `j` started a conversation with\n",
    "        speaker `i` and vice versa.\n",
    "    input_similarity_matrix : np.ndarray\n",
    "        The similarity matrix of (`input_n_speakers`, `input_n_speakers`), with the entry (i, j)\n",
    "        indicating the generalized Jaccard similarity between the speakers `i` and `j`.\n",
    "    input_character : str\n",
    "        The chosen character for whom the interaction-similarity plot is to be drawn.\n",
    "    \"\"\"\n",
    "    n = good_speakers.index(input_character)\n",
    "    interaction_order = [\n",
    "        idx\n",
    "        for idx, sim in sorted(enumerate(interaction_matrix[n]), reverse=True, key=lambda x: x[1])\n",
    "    ]\n",
    "    similarity = [g_j_sim_matrix[n][i] for i in interaction_order]\n",
    "    index = np.arange(n_good_speakers)\n",
    "\n",
    "    plt.bar(index, similarity, color='tab:blue')\n",
    "\n",
    "    plt.title(good_speakers[n])\n",
    "    plt.xlabel('Interaction strength (high to low)')\n",
    "    plt.ylabel('Similarity')\n",
    "    plt.xticks(index, [good_speakers[i] for i in interaction_order])\n",
    "\n",
    "    plt.show()"
   ]
  },
  {
   "cell_type": "code",
   "execution_count": null,
   "metadata": {
    "deletable": false,
    "editable": false,
    "nbgrader": {
     "grade": false,
     "grade_id": "cell-aaeff4e42a7c98a8",
     "locked": true,
     "schema_version": 3,
     "solution": false
    }
   },
   "outputs": [],
   "source": [
    "plt.figure(figsize=(10, 4))\n",
    "character_interaction_similarity_plot(interaction_matrix, g_j_sim_matrix, \"KIM\")"
   ]
  },
  {
   "cell_type": "markdown",
   "metadata": {
    "deletable": false,
    "editable": false,
    "nbgrader": {
     "grade": false,
     "grade_id": "cell-1edc5ba88265dcb0",
     "locked": true,
     "schema_version": 3,
     "solution": false,
     "task": false
    }
   },
   "source": [
    "- - -\n",
    "<p style='text-align:right; font-size:11px'>[[contents](#contents)]</p>\n",
    "\n",
    "#### <font color='green'> Question 6b (free response): Pair interaction strength and similarity </font> <a class=\"anchor\" id=\"6b\"></a>\n",
    "\n",
    "In the cell below, use Markdown to describe anything that you notice about how interaction strength compares to similarity for **Kim**."
   ]
  },
  {
   "cell_type": "markdown",
   "metadata": {
    "deletable": false,
    "nbgrader": {
     "grade": true,
     "grade_id": "cell-83497c493f7ef53a",
     "locked": false,
     "points": 5,
     "schema_version": 3,
     "solution": true
    }
   },
   "source": [
    "**Solution**: YOUR ANSWER GOES HERE"
   ]
  },
  {
   "cell_type": "markdown",
   "metadata": {
    "deletable": false,
    "editable": false,
    "nbgrader": {
     "grade": false,
     "grade_id": "cell-6ad47d66871de53d",
     "locked": true,
     "schema_version": 3,
     "solution": false,
     "task": false
    }
   },
   "source": [
    "- - -\n",
    "<p style='text-align:right; font-size:11px'>[[contents](#contents)]</p>\n",
    "\n",
    "#### <font color='blue'> Question 6c (code completion): Analyzing pair interaction strength and similarity </font> <a class=\"anchor\" id=\"6c\"></a>\n",
    "\n",
    "To complete your analysis print a bar graph that generalizes the relationship between pair interaction strength and similarity. For simplicity, we rate each pair's interaction strength \"high\", \"medium\", and \"low\" depending on how many interactions were exchanged between the pair:\n",
    "* High interaction strength: more than 500 interactions,\n",
    "* Medium interaction strength: 150 interactions to 500 interactions (inclusive),\n",
    "* Low interaction strength: less than 150 interactions.\n",
    "\n",
    "In this analysis, categorize each pair into high, medium, or low interaction strength, and plot the average similarity of each category. That is, plot three bars on the x-axis (one for each category) against average similarity (for each category) on the y-axis.\n",
    "\n",
    "Note: Pairs of good speakers are bidirectional in this analysis and should be included only once. That is, if you've included (BRUCE, KRIS), you shouldn't include (KRIS, BRUCE). Also, do not include pairs between the same person (e.g. (KIM, KIM))\n",
    "\n",
    "Hint: Use `interaction_matrix` and `g_j_sim_matrix`."
   ]
  },
  {
   "cell_type": "code",
   "execution_count": null,
   "metadata": {
    "deletable": false,
    "nbgrader": {
     "grade": true,
     "grade_id": "cell-8f310f57428d0fad",
     "locked": false,
     "points": 10,
     "schema_version": 3,
     "solution": true
    }
   },
   "outputs": [],
   "source": [
    "# YOUR CODE GOES HERE\n",
    "raise NotImplementedError()"
   ]
  },
  {
   "cell_type": "markdown",
   "metadata": {
    "deletable": false,
    "editable": false,
    "nbgrader": {
     "grade": false,
     "grade_id": "cell-0f36e30ef21125de",
     "locked": true,
     "schema_version": 3,
     "solution": false,
     "task": false
    }
   },
   "source": [
    "- - -\n",
    "<p style='text-align:right; font-size:11px'>[[contents](#contents)]</p>\n",
    "\n",
    "#### <font color='green'> Question 6d (free response): Connecting pair interaction strength and similarity </font> <a class=\"anchor\" id=\"6d\"></a>\n",
    "\n",
    "These are some interesting connections between interaction strength and speech similarity. In the cell below, please use Markdown to note any interesting observations/analysis you can take-away from the results above. "
   ]
  },
  {
   "cell_type": "markdown",
   "metadata": {
    "deletable": false,
    "nbgrader": {
     "grade": true,
     "grade_id": "cell-4ccdff07498d3831",
     "locked": false,
     "points": 5,
     "schema_version": 3,
     "solution": true
    }
   },
   "source": [
    "**Solution**: YOUR ANSWER GOES HERE"
   ]
  },
  {
   "cell_type": "markdown",
   "metadata": {
    "deletable": false,
    "editable": false,
    "nbgrader": {
     "grade": false,
     "grade_id": "cell-91e803434f5c67c1",
     "locked": true,
     "schema_version": 3,
     "solution": false
    }
   },
   "source": [
    "- - -\n",
    "<p style='text-align:right; font-size:11px'>[[contents](#contents)]</p>\n",
    "\n",
    "### Speaker characteristics and social interaction <a class=\"anchor\" id=\"7\"></a>\n",
    "\n",
    "#### <font color='blue'> Question 7a (code completion): Age-group and social interaction </font> <a class=\"anchor\" id=\"7a\"></a>\n",
    "\n",
    "Often we might want to examine how interactions differ depending on the characteristics of the people involved. In this case, we are interested in the extent to which people interact differently depending on the ages of the people they are talking to. \n",
    "\n",
    "For example, do people from one age group talk differently to people of other age groups than to people of their own?\n",
    "\n",
    "For simplicity, we will divide the characters into two age groups and name them P for Parent and C for Child. We provide an age group dictionary below. You are welcome to **additionally** explore on your own other speaker characteristics.  If you find something interesting fill out the [optional free response cell below (7d)](#7d).\n",
    "\n",
    "We will start by building a matrix with rows corresponding to age group combinations and columns corresponding to good type words. Age group combination (P, C) means that a person from group C is replying to a person from group P. In this analysis, we will consider all interactions, not just the good pairs.\n",
    "\n",
    "In the cell below, complete the specification by returning the desired numpy array. (Hint: You can reuse your helper functions from above or the logic in the your previous methods.)\n",
    "\n",
    "**Note**: Only consider the `good_types` in replies."
   ]
  },
  {
   "cell_type": "code",
   "execution_count": null,
   "metadata": {
    "deletable": false,
    "editable": false,
    "nbgrader": {
     "grade": false,
     "grade_id": "cell-9c91ab18daa3b361",
     "locked": true,
     "schema_version": 3,
     "solution": false
    }
   },
   "outputs": [],
   "source": [
    "# Here we provide you with the age groups for each character\n",
    "# and age group combinations of interactions that you will be working with\n",
    "age_group = {\n",
    "    u'BRUCE': u'P',\n",
    "    u'JONATHAN': u'C',\n",
    "    u'KHLOE': u'C',\n",
    "    u'KIM': u'C',\n",
    "    u'KOURTNEY': u'C',\n",
    "    u'KRIS': u'P',\n",
    "    u'ROBERT': u'C',\n",
    "    u'SCOTT': u'C'\n",
    "}\n",
    "age_group_index = {'P': 0, 'C': 1}\n",
    "age_group_mat_index = {('P', 'P'): 0, ('P', 'C'): 1, ('C', 'P'): 2, ('C', 'C'): 3}"
   ]
  },
  {
   "cell_type": "code",
   "execution_count": null,
   "metadata": {
    "deletable": false,
    "nbgrader": {
     "grade": false,
     "grade_id": "create_gender_words_mat",
     "locked": false,
     "schema_version": 3,
     "solution": true
    }
   },
   "outputs": [],
   "source": [
    "def create_age_words_mat(input_tokenize_method, input_deduped_transcripts, input_good_speakers,\n",
    "                         input_n_good_types):\n",
    "    \"\"\"Create age-group interactions matrix.\n",
    "    \n",
    "    Returns a np.ndarray of shape (4, `input_n_good_types`) such that the entry (i, j) indicates the\n",
    "    number of times age group pair `i` says word `j`.\n",
    "    \n",
    "    Hint: You should use the global variables: `good_types_reverse_index`, `age_group`, \n",
    "    `age_group_index`, and `age_group_mat_index`.\n",
    "    \n",
    "    Parameters\n",
    "    ----------\n",
    "    input_tokenize_method : function\n",
    "        A method that tokenizes the input text into tokens.\n",
    "    input_deduped_transcripts : list\n",
    "        The list of input deduped transcripts, loaded from assignment 1.\n",
    "    input_good_speakers : list\n",
    "        A list of chosen \"good\" speakers.\n",
    "    input_n_good_types : int\n",
    "        The number of input good type words.\n",
    "    \n",
    "    Returns\n",
    "    -------\n",
    "    np.ndarray\n",
    "        An array of age-group interactions, such that the entry (i, j) indicates the number of times\n",
    "        age group pair `i` says word `j`.\n",
    "    \"\"\"\n",
    "    # YOUR CODE GOES HERE\n",
    "    raise NotImplementedError()"
   ]
  },
  {
   "cell_type": "code",
   "execution_count": null,
   "metadata": {
    "deletable": false,
    "editable": false,
    "nbgrader": {
     "grade": false,
     "grade_id": "cell-594f31685a436e9f",
     "locked": true,
     "schema_version": 3,
     "solution": false
    }
   },
   "outputs": [],
   "source": [
    "age_words_mat = create_age_words_mat(tokenize, deduped_transcripts, good_speakers, n_good_types)"
   ]
  },
  {
   "cell_type": "code",
   "execution_count": null,
   "metadata": {
    "deletable": false,
    "editable": false,
    "nbgrader": {
     "grade": true,
     "grade_id": "create_gender_words_mat_test",
     "locked": true,
     "points": 20,
     "schema_version": 3,
     "solution": false
    }
   },
   "outputs": [],
   "source": [
    "# This is an autograder test. Here we can test the function you just wrote above.\n",
    "\"\"\"Check that `create_age_words_mat` returns the correct output.\"\"\"\n",
    "assert type(age_words_mat) == np.ndarray\n",
    "assert age_words_mat.shape == (4, 4517)\n",
    "assert sum(age_words_mat[1]) > 15000"
   ]
  },
  {
   "cell_type": "markdown",
   "metadata": {
    "deletable": false,
    "editable": false,
    "nbgrader": {
     "grade": false,
     "grade_id": "cell-bbbae67c94ac93a3",
     "locked": true,
     "schema_version": 3,
     "solution": false
    }
   },
   "source": [
    "- - -\n",
    "<p style='text-align:right; font-size:11px'>[[contents](#contents)]</p>\n",
    "\n",
    "#### <font color='blue'> Question 7b (code completion): Weighting age-group interactions matrix </font> <a class=\"anchor\" id=\"7b\"></a>\n",
    "\n",
    "As we finish this portion of the analysis, we end by scoring the words by the ratio between how often a given age group combination said it and how often all of the combinations said it. This can be done quite simply with numpy primitives. As in [Question 5c](#5c), we will use additive smoothing to de-emphasize ratios of less frequent words.\n",
    "\n",
    "In the cell below, complete the specification and return the weighted words by each age group pair:\n",
    "\n",
    "Hint: You can reuse your helper functions from above or the logic in the your previous methods. "
   ]
  },
  {
   "cell_type": "code",
   "execution_count": null,
   "metadata": {
    "deletable": false,
    "nbgrader": {
     "grade": false,
     "grade_id": "create_gender_weighted_words",
     "locked": false,
     "schema_version": 3,
     "solution": true
    }
   },
   "outputs": [],
   "source": [
    "def create_age_weighted_words(input_age_words_mat):\n",
    "    \"\"\"Create weighted age-group interactions matrix.\n",
    "    \n",
    "    Returns a np.ndarray with the same shape as `input_age_words_mat`, such that entry (i, j) \n",
    "    indicates a weighted score showing how often a given age-group pair `i` uttered a good type\n",
    "    word `j`.\n",
    "    \n",
    "    Note: Words may not be said by any pair.\n",
    "    Hint: Use numpy primitives to optimize this function.\n",
    "    \n",
    "    Parameters\n",
    "    ----------\n",
    "    input_age_words_mat : np.ndarray\n",
    "        The age-group interactions matrix with an entry (i, j) indicating how many times age-group \n",
    "        pair `i` has uttered good type word `j`.\n",
    "    \n",
    "    Returns\n",
    "    -------\n",
    "    np.ndarray\n",
    "        A weighted age-group interactions matrix with an entry (i, j) indicating how many times age\n",
    "        group pair `i` has uttered good type word `j`.\n",
    "    \"\"\"\n",
    "    # YOUR CODE GOES HERE\n",
    "    raise NotImplementedError()"
   ]
  },
  {
   "cell_type": "code",
   "execution_count": null,
   "metadata": {
    "deletable": false,
    "editable": false,
    "nbgrader": {
     "grade": false,
     "grade_id": "cell-6c81c191f85a2615",
     "locked": true,
     "schema_version": 3,
     "solution": false
    }
   },
   "outputs": [],
   "source": [
    "age_weighted_words = create_age_weighted_words(age_words_mat)"
   ]
  },
  {
   "cell_type": "code",
   "execution_count": null,
   "metadata": {
    "deletable": false,
    "editable": false,
    "nbgrader": {
     "grade": true,
     "grade_id": "create_gender_weighted_words_test",
     "locked": true,
     "points": 15,
     "schema_version": 3,
     "solution": false
    }
   },
   "outputs": [],
   "source": [
    "# This is an autograder test. Here we can test the function you just wrote above.\n",
    "\"\"\"Check that `create_gender_weighted_words` returns the correct output.\"\"\"\n",
    "assert type(age_weighted_words) == np.ndarray\n",
    "assert age_weighted_words.shape == (4, 4517)\n",
    "assert_almost_equal(round(sum(age_weighted_words[:, 0]), 5), 1)\n",
    "assert_almost_equal(age_weighted_words[0, 1], 0.1)"
   ]
  },
  {
   "cell_type": "code",
   "execution_count": null,
   "metadata": {
    "deletable": false,
    "editable": false,
    "nbgrader": {
     "grade": false,
     "grade_id": "cell-19da82a0167b0d85",
     "locked": true,
     "schema_version": 3,
     "solution": false
    }
   },
   "outputs": [],
   "source": [
    "for i, j in age_group_mat_index.keys():\n",
    "    print(i, j)\n",
    "    words = age_weighted_words[age_group_mat_index[(i, j)]]\n",
    "    ranked = sorted(enumerate(words), key=lambda x: x[1], reverse=True)\n",
    "    for index, score in ranked[:10]:\n",
    "        print('{:.2f} {}'.format(score, good_types[index]))\n",
    "    print()"
   ]
  },
  {
   "cell_type": "markdown",
   "metadata": {
    "deletable": false,
    "editable": false,
    "nbgrader": {
     "grade": false,
     "grade_id": "cell-ec5aa038d6dc2da4",
     "locked": true,
     "schema_version": 3,
     "solution": false
    }
   },
   "source": [
    "- - -\n",
    "<p style='text-align:right; font-size:11px'>[[contents](#contents)]</p>\n",
    "\n",
    "#### <font color='green'> Question 7c (free response): Analyzing age-group and social interaction </font> <a class=\"anchor\" id=\"7c\"></a>\n",
    "\n",
    "These are some interesting results in regards to uncovering age group and the social interaction between age group pairs. In the cell below, please use Markdown to note any interesting observations/analysis you can take-away from the results above. "
   ]
  },
  {
   "cell_type": "markdown",
   "metadata": {
    "deletable": false,
    "nbgrader": {
     "grade": true,
     "grade_id": "create_gender_weighted_words_ans",
     "locked": false,
     "points": 10,
     "schema_version": 3,
     "solution": true
    }
   },
   "source": [
    "**Solution**: YOUR ANSWER GOES HERE "
   ]
  },
  {
   "cell_type": "markdown",
   "metadata": {
    "deletable": false,
    "editable": false,
    "nbgrader": {
     "grade": false,
     "grade_id": "cell-8fdd5757bbe45f71",
     "locked": true,
     "schema_version": 3,
     "solution": false,
     "task": false
    }
   },
   "source": [
    "- - -\n",
    "<p style='text-align:right; font-size:11px'>[[contents](#contents)]</p>\n",
    "\n",
    "#### <font color='blue'> [optional] Question 7d (code completion): Other characteristics and social interaction </font> <a class=\"anchor\" id=\"7d\"></a>\n",
    "\n",
    "We might want to examine how interactions differ depending on other characteristics of the people involved. You are welcome to **additionally** explore on your own other characteristics of the people. If you find something interesting fill out the optional free response cell below.<br>\n",
    "\n",
    "While no extra points will be awarded for this task, it may help you with your extra-credit assignment.\n"
   ]
  },
  {
   "cell_type": "code",
   "execution_count": null,
   "metadata": {
    "deletable": false,
    "nbgrader": {
     "grade": true,
     "grade_id": "cell-20e019e0254f9f1f",
     "locked": false,
     "points": 0,
     "schema_version": 3,
     "solution": true
    }
   },
   "outputs": [],
   "source": [
    "# YOUR CODE GOES HERE"
   ]
  },
  {
   "cell_type": "markdown",
   "metadata": {
    "deletable": false,
    "editable": false,
    "nbgrader": {
     "grade": false,
     "grade_id": "cell-374772303edd6492",
     "locked": true,
     "schema_version": 3,
     "solution": false
    }
   },
   "source": [
    "- - -\n",
    "<p style='text-align:right; font-size:11px'>[[contents](#contents)]</p>\n",
    "\n",
    "### Priming: Word choice influenced by the person being spoken to <a class=\"anchor\" id=\"8\"></a>\n",
    "\n",
    "<a href=https://en.wikipedia.org/wiki/Priming_(psychology)>Priming</a> is the phenomenon where a speaker tends to repeat certain words or language characteristics of the person they are replying to. It turns out that priming can often be observed in conversation. If A is talking to B, B will sometimes mirror A's language.\n",
    "\n",
    "#### <font color='blue'> Question 8a (code completion): Character priming matrix </font> <a class=\"anchor\" id=\"8a\"></a>\n",
    "\n",
    "In this analysis we will be looking at priming: i.e. when speaker B replies to speaker A, what is the probability that a word said by A will be repeated by B? \n",
    "\n",
    "That is, how many of the words in B's reply were also said by A (normalized by the number of words B said in total)?\n",
    "Specifically, consider the following example:\n",
    "\n",
    "```\n",
    "Catelyn : Hi Ned, it is a really nice day today. Yes, it is.\n",
    "Ned : It is a really really nice day today. Yes.\n",
    "```\n",
    "\n",
    "We should take the set of all words said by Catelyn: $W_c = \\{$hi, ned, it, is, a, really, nice, day, today, yes$\\}$, and the set of all words said by Ned: $W_n = \\{$it, is, a, really, nice, day, today, yes$\\}$, and perform the *priming computation*:\n",
    "\n",
    "$$\\frac{\\left|W_c \\cap W_n\\right|}{\\left|W_n\\right|}$$\n",
    "\n",
    "For a specific *ordered* pair of speakers A and B, we calculate the *arithmetic mean* of priming computations among all instances of B replying to A to get a single number between $0$ and $1$ as the answer to this question. That is, sum up the primed proportion for every B's reply to A and divide it by the number of times B replied to A.\n",
    "\n",
    "The next couple methods will walk you through necessary pre-computations to get this priming matrix.\n",
    "Do read through these functions carefully as you will be using their results."
   ]
  },
  {
   "cell_type": "code",
   "execution_count": null,
   "metadata": {
    "deletable": false,
    "editable": false,
    "nbgrader": {
     "grade": false,
     "grade_id": "cell-2e2e52527668c6db",
     "locked": true,
     "schema_version": 3,
     "solution": false
    }
   },
   "outputs": [],
   "source": [
    "def merge_deduped(transcripts):\n",
    "    \"\"\"Merges adjacent transcript lines by the same speaker.\"\"\"\n",
    "    result = []\n",
    "    for t_id, tscript in transcripts:\n",
    "        prev_speaker = tscript[0]['speaker']\n",
    "        prev_line = tscript[0]['text']\n",
    "        tscript_result = []\n",
    "        for i in range(1, len(tscript)):\n",
    "            curr_speaker = tscript[i]['speaker']\n",
    "            curr_line = tscript[i]['text']\n",
    "            if curr_speaker == prev_speaker:\n",
    "                prev_line = prev_line + \" \" + curr_line\n",
    "            else:\n",
    "                tscript_result.append({'speaker': prev_speaker, 'text': prev_line})\n",
    "                prev_speaker = curr_speaker\n",
    "                prev_line = curr_line\n",
    "            if i == len(tscript) - 1:\n",
    "                tscript_result.append({'speaker': prev_speaker, 'text': prev_line})\n",
    "        result.append((t_id, tscript_result))\n",
    "    return result\n",
    "\n",
    "\n",
    "merged_deduped_transcripts = merge_deduped(deduped_transcripts)\n",
    "\n",
    "\n",
    "def prev_lines_and_replies(A, B, tscript):\n",
    "    \"\"\"\n",
    "    Creates an array of all the transcript lines involving supposed correspondence between A (first \n",
    "    speaker) and B (second speaker), both previous message and current message.\n",
    "    \"\"\"\n",
    "    # Prepare results for B responses to A, previous speak.\n",
    "    result = []\n",
    "    prev_speaker = None\n",
    "    prev_line = None\n",
    "\n",
    "    # Go through every line of the transcript.\n",
    "    for line in tscript:\n",
    "        curr_speaker = line['speaker']\n",
    "\n",
    "        # If dialogue has happened.\n",
    "        if ((curr_speaker == B and prev_speaker == A)):\n",
    "            # Add the previous line and the current line.\n",
    "            result.append([prev_line, line])\n",
    "\n",
    "        # Update the speaker and line.\n",
    "        prev_speaker = curr_speaker\n",
    "        prev_line = line\n",
    "\n",
    "    return result\n",
    "\n",
    "\n",
    "def ordered_lines_for_pair(A, B):\n",
    "    \"\"\"Gathers all lines in all transcripts for an ORDERED pair of characters.\"\"\"\n",
    "    result = []\n",
    "\n",
    "    for _, tscript in merged_deduped_transcripts:\n",
    "        result = result + prev_lines_and_replies(A, B, tscript)\n",
    "    return result\n",
    "\n",
    "\n",
    "def ordered_pairs_all_lines():\n",
    "    \"\"\"Gathers all lines in all transcripts for all ORDERED pairs of good characters.\"\"\"\n",
    "    result = dict()\n",
    "\n",
    "    # Setup pairings (tuples).\n",
    "    for i in range(0, n_good_speakers):\n",
    "        for j in range(0, n_good_speakers):\n",
    "            if i != j:\n",
    "                tup = (good_speakers[i], good_speakers[j])\n",
    "                result[tup] = ordered_lines_for_pair(*tup)\n",
    "    return result\n",
    "\n",
    "\n",
    "# Groupings per pair.\n",
    "ordered_pairs_lines = ordered_pairs_all_lines()"
   ]
  },
  {
   "cell_type": "markdown",
   "metadata": {
    "deletable": false,
    "editable": false,
    "nbgrader": {
     "grade": false,
     "grade_id": "cell-afb7e00494e1e19b",
     "locked": true,
     "schema_version": 3,
     "solution": false,
     "task": false
    }
   },
   "source": [
    "So, `ordered_pairs_lines` is a data structure containing all of the lines and replies between the pairs of speakers, organized in the following way:\n",
    "\n",
    "`dict → list → list → dict`\n",
    "```json\n",
    "(A, B): [\n",
    "           [{speaker: A, text: ...}, {speaker: B, text: ...}],\n",
    "           [{speaker: A, text: ...}, {speaker: B, text: ...}],\n",
    "           ...\n",
    "        ]\n",
    "```\n",
    "\n",
    "For example (not taken directly from the transcripts):\n",
    "```json\n",
    "('BRUCE', 'JONATHAN'): [\n",
    "                          [{'speaker': 'BRUCE', 'text': 'The guy is hitting on you, big-time.'},\n",
    "                           {'speaker': 'JONATHAN', 'text': 'And I am out of here early today.'}],\n",
    "                          [{'speaker': 'BRUCE', 'text': 'No, I am not making a scene.'},\n",
    "                           {'speaker': 'JONATHAN', 'text': 'What is that?'}],\n",
    "                       ]\n",
    "```"
   ]
  },
  {
   "cell_type": "markdown",
   "metadata": {
    "deletable": false,
    "editable": false,
    "nbgrader": {
     "grade": false,
     "grade_id": "cell-dacf9e4af0270a7c",
     "locked": true,
     "schema_version": 3,
     "solution": false
    }
   },
   "source": [
    "In the cell below, fulfill the specification to return a priming matrix:\n",
    "\n",
    "Note: Ensure that only `good_types` are used. If you find that there are no good types in Speaker B's reply, skip that pair of lines (do not add anything to totals or proportions matrices) since there is no priming computation to be done."
   ]
  },
  {
   "cell_type": "code",
   "execution_count": null,
   "metadata": {
    "deletable": false,
    "nbgrader": {
     "grade": false,
     "grade_id": "pair_priming_mat",
     "locked": false,
     "schema_version": 3,
     "solution": true
    }
   },
   "outputs": [],
   "source": [
    "def create_pair_priming_mat(input_tokenize_method, input_ordered_pair_lines, input_good_speakers,\n",
    "                            input_n_speakers):\n",
    "    \"\"\"Create the priming matrix from pair-wise ordered transcript lines.\n",
    "    \n",
    "    Returns a np.ndarray of size (`input_n_speakers`, `input_n_speakers`) where entry (i, j) is the\n",
    "    mean of priming computations (proportions where numerator is the number of good types in `j`'s \n",
    "    reply also said by `i` and denominator is number of good types in `j`'s reply) across all pairs\n",
    "    of lines where `j` replied to `i`.\n",
    "    \n",
    "    Hint: Use numpy primitives to make this function optimal.\n",
    "    Note: You should use `good_types_reverse_index` global variable. \n",
    "    \n",
    "    Steps:\n",
    "        1. Iterate through each tuple (for each pair i, j).\n",
    "        2. Grab only good types.\n",
    "        3. Do the necessary priming calculations.\n",
    "    \n",
    "    Parameters\n",
    "    ----------\n",
    "    input_tokenize_method : function\n",
    "        A method that tokenizes the input text into tokens.\n",
    "    input_ordered_pair_lines : dict\n",
    "        A dictionary of all of the lines and replies between pairs of speakers, organized as a dict\n",
    "        (keys: pairs of speakers) of list of dict lists (as values); see above for specifics.\n",
    "    input_good_speakers : list\n",
    "        A list of chosen \"good\" speakers.\n",
    "    input_n_speakers : int\n",
    "        The number of input speakers to be chosen in constructing the priming matrix.\n",
    "    \n",
    "    Returns\n",
    "    -------\n",
    "    np.ndarray\n",
    "        The priming matrix of size (`input_n_speakers`, `input_n_speakers`), where entry (i, j) is\n",
    "        the mean of priming computations across all pairs of lines where `j` replied to `i`.\n",
    "    \"\"\"\n",
    "\n",
    "    # We are providing you the code structure below to help you get started in the right direction.\n",
    "    # You may edit it, if you want.\n",
    "    good_types_set = set(good_types_reverse_index.keys())\n",
    "\n",
    "    # Resultant matricies.\n",
    "    proportions = np.zeros((input_n_speakers, input_n_speakers))\n",
    "    totals = np.zeros((input_n_speakers, input_n_speakers))\n",
    "\n",
    "    # All the pairs.\n",
    "    for pair in input_ordered_pair_lines.keys():\n",
    "        A = pair[0]  # A, who is prompting B\n",
    "        i = input_good_speakers.index(A)\n",
    "        B = pair[1]  # B, who is responding to A\n",
    "        j = input_good_speakers.index(B)\n",
    "        # For tuple arrays for each pair.\n",
    "        for arrs in input_ordered_pair_lines[pair]:\n",
    "            # Grab sets of words.\n",
    "            response = input_tokenize_method(arrs[1]['text'])\n",
    "            B_sent = set(response)\n",
    "            A_sent = set(input_tokenize_method(arrs[0]['text']))\n",
    "\n",
    "            # TODO:\n",
    "            # 1. Reduce `B_sent` to just good types.\n",
    "            # 2. Up the total number of correspondences for each pair.\n",
    "            # 3. Compute priming calculations and sum for each pair.\n",
    "\n",
    "            # YOUR CODE GOES HERE\n",
    "\n",
    "    totals[totals == 0] += 1\n",
    "    answer = proportions / totals  # get arithmetic mean\n",
    "    return answer"
   ]
  },
  {
   "cell_type": "code",
   "execution_count": null,
   "metadata": {
    "deletable": false,
    "editable": false,
    "nbgrader": {
     "grade": false,
     "grade_id": "cell-75aaefbe8273b3ff",
     "locked": true,
     "schema_version": 3,
     "solution": false
    }
   },
   "outputs": [],
   "source": [
    "pair_priming_mat = create_pair_priming_mat(tokenize, ordered_pairs_lines, good_speakers,\n",
    "                                           n_good_speakers)"
   ]
  },
  {
   "cell_type": "code",
   "execution_count": null,
   "metadata": {
    "deletable": false,
    "editable": false,
    "nbgrader": {
     "grade": true,
     "grade_id": "pair_priming_mat_test",
     "locked": true,
     "points": 25,
     "schema_version": 3,
     "solution": false
    }
   },
   "outputs": [],
   "source": [
    "# This is an autograder test. Here we can test the function you just wrote above.\n",
    "\"\"\"Check that `pair_priming_mat` returns the correct output.\"\"\"\n",
    "assert type(pair_priming_mat) == np.ndarray\n",
    "assert pair_priming_mat.shape == (8, 8)\n",
    "assert pair_priming_mat[0][0] == 0\n",
    "assert pair_priming_mat[1][0] == 0\n",
    "assert sum(pair_priming_mat[5]) > 0.7 and sum(pair_priming_mat[5]) < 0.8"
   ]
  },
  {
   "cell_type": "code",
   "execution_count": null,
   "metadata": {
    "deletable": false,
    "editable": false,
    "nbgrader": {
     "grade": false,
     "grade_id": "cell-788ea601759b9cc6",
     "locked": true,
     "schema_version": 3,
     "solution": false
    }
   },
   "outputs": [],
   "source": [
    "plt.figure(figsize=(5, 5))\n",
    "plt.imshow(pair_priming_mat, interpolation='none', cmap=plt.cm.Blues)\n",
    "plt.colorbar()\n",
    "\n",
    "plt.xticks(range(n_good_speakers), good_speakers, rotation=90)\n",
    "plt.yticks(range(n_good_speakers), good_speakers)\n",
    "plt.show()"
   ]
  },
  {
   "cell_type": "markdown",
   "metadata": {
    "deletable": false,
    "editable": false,
    "nbgrader": {
     "grade": false,
     "grade_id": "cell-b3892eb6e2d13976",
     "locked": true,
     "schema_version": 3,
     "solution": false
    }
   },
   "source": [
    "Consider the three character pairs with the most priming, as well as the three with the least. **Note that priming is not symmetric.** For example, Kim might tend to mimic Kourtney more than Kourtney mimicing Kim.\n",
    "\n",
    "In the code we provided below we have ignored *ordered* pairs that have fewer than 100 words. Analyze the code and results provided:"
   ]
  },
  {
   "cell_type": "code",
   "execution_count": null,
   "metadata": {
    "deletable": false,
    "editable": false,
    "nbgrader": {
     "grade": false,
     "grade_id": "cell-908e524fd5c4ed8a",
     "locked": true,
     "schema_version": 3,
     "solution": false
    }
   },
   "outputs": [],
   "source": [
    "mat_items = []\n",
    "for i in range(n_good_speakers):\n",
    "    for j in range(n_good_speakers):\n",
    "        if i != j and reply_matrix[i, j] >= 100:\n",
    "            mat_items.append((pair_priming_mat[i, j], (i, j)))\n",
    "mat_items.sort()\n",
    "\n",
    "print(\"Top three pairs:\")\n",
    "top_3_priming_pairs = []\n",
    "for score, (i, j) in reversed(mat_items[-3:]):\n",
    "    top_3_priming_pairs.append((i, j))\n",
    "    print(\"- {} repeats {} (score: {:.4f})\".format(good_speakers[j], good_speakers[i], score, 5))\n",
    "print(\"\\nBottom three pairs:\")\n",
    "for score, (i, j) in reversed(mat_items[:3]):\n",
    "    print(\"- {} repeats {} (score: {:.4f})\".format(good_speakers[j], good_speakers[i], score, 5))"
   ]
  },
  {
   "cell_type": "markdown",
   "metadata": {
    "deletable": false,
    "editable": false,
    "nbgrader": {
     "grade": false,
     "grade_id": "cell-2c6a2f483f0db923",
     "locked": true,
     "schema_version": 3,
     "solution": false,
     "task": false
    }
   },
   "source": [
    "- - -\n",
    "<p style='text-align:right; font-size:11px'>[[contents](#contents)]</p>\n",
    "\n",
    "#### <font color='green'> Question 8b (free response): Analyzing character priming findings </font> <a class=\"anchor\" id=\"8b\"></a>\n",
    "\n",
    "In the cell below, please use Markdown to describe anything that you notice about the heatmap generated from the priming matrix as well as the results above, in regards to the top/bottom three priming pairs. Were you expecting these results, or are were you surprised?"
   ]
  },
  {
   "cell_type": "markdown",
   "metadata": {
    "deletable": false,
    "nbgrader": {
     "grade": true,
     "grade_id": "cell-3378faa3e7dfb8b9",
     "locked": false,
     "points": 10,
     "schema_version": 3,
     "solution": true
    }
   },
   "source": [
    "**Solution**: YOUR ANSWER GOES HERE"
   ]
  },
  {
   "cell_type": "markdown",
   "metadata": {
    "deletable": false,
    "editable": false,
    "nbgrader": {
     "grade": false,
     "grade_id": "cell-419f900bc4bd9319",
     "locked": true,
     "schema_version": 3,
     "solution": false
    }
   },
   "source": [
    "- - -\n",
    "<p style='text-align:right; font-size:11px'>[[contents](#contents)]</p>\n",
    "\n",
    "#### <font color='blue'> Question 8c (code completion): Repeated words in replies </font> <a class=\"anchor\" id=\"8c\"></a>\n",
    "\n",
    "Next we are interested in the actual words that are being repeated in replies and how many times they are being repeated.\n",
    "\n",
    "In the following example:\n",
    "```text\n",
    "Catelyn: Hi Ned, it is a really nice day today. Yes, it is.\n",
    "Ned    : It is a really really nice day today. Yes.\n",
    "```\n",
    "We see that Ned repeats the words *it*, *is*, *a*, *nice*, *day*, *today*, and *yes* one time, and *really* two times. \n",
    "\n",
    "Note that in this analysis, we do not concern ourselves with how many times Catelyn repeats a word. That is, we disregard the fact that Catelyn has said the words *it* and *is* two times. We are only interested if Ned repeats words that Catelyn has said. \n",
    "\n",
    "For each of the three most-primed ordered pairs, what are the top 10 `good_types` being repeated? In the cell below, satisfy the specification to return the counts of repeated `good_types` per pair by returning a dictionary of word counts per ordered pair in the following format:\n",
    "\n",
    "```json\n",
    "{(CHARACTER_NAME_A, CHARACTER_NAME_B): \n",
    "    {word_1: count_1, word_2: count_2, ...}\n",
    " ...\n",
    "}\n",
    "```"
   ]
  },
  {
   "cell_type": "code",
   "execution_count": null,
   "metadata": {
    "deletable": false,
    "editable": false,
    "nbgrader": {
     "grade": false,
     "grade_id": "cell-5108a3920ac7b799",
     "locked": true,
     "schema_version": 3,
     "solution": false
    }
   },
   "outputs": [],
   "source": [
    "## Helper variables for the following cell.\n",
    "ordered_pairs = list(ordered_pairs_lines.keys())\n",
    "n_ordered_pairs = len(ordered_pairs)\n",
    "ordered_pair_lookup = {}\n",
    "for i in range(0, n_ordered_pairs):\n",
    "    ordered_pair_lookup[ordered_pairs[i]] = i"
   ]
  },
  {
   "cell_type": "code",
   "execution_count": null,
   "metadata": {
    "deletable": false,
    "nbgrader": {
     "grade": false,
     "grade_id": "wc_per_ord_pair",
     "locked": false,
     "schema_version": 3,
     "solution": true
    }
   },
   "outputs": [],
   "source": [
    "def word_counts_per_ordered_pair(input_ordered_pairs, input_ordered_pairs_lines):\n",
    "    \"\"\"Retrieve word counts of primed words per ordered pair.\n",
    "    \n",
    "    Returns a dictionary that contains all the word counts of primed words (`good_types`) per \n",
    "    ordered pair in the following format:\n",
    "    ```{\n",
    "           (character_index_a, character_index_b): {word_1: count_1, word_2: count_2...},\n",
    "           (character_index_a, character_index_c): {word_1: count_1, word_2: count_2...},\n",
    "           ...\n",
    "        ...\n",
    "       }```.\n",
    "    \n",
    "    Hint: Make sure to use the `good_types_reverse_index` global variable.\n",
    "    \n",
    "    Note: The dictionary you are returning should contain all word counts of primed words \n",
    "    (`good_types`), not just the top ten, and for all pairs, not just the top three.\n",
    "    \n",
    "    Parameters\n",
    "    ----------\n",
    "    input_ordered_pairs : list\n",
    "        A list of all ordered pairs of characters with correspondance in `input_ordered_pair_lines`.\n",
    "    input_ordered_pair_lines : dict\n",
    "        A dictionary of all of the lines and replies between pairs of speakers, organized as a dict\n",
    "        (keys: pairs of speakers) of list of dict lists (as values); see above for specifics.\n",
    "    \n",
    "    Returns\n",
    "    -------\n",
    "    dict\n",
    "        A dictionary that contains all the word counts of primed words (`good_types`) per ordered\n",
    "        pair in the required format.\n",
    "    \"\"\"\n",
    "    # YOUR CODE GOES HERE\n",
    "    raise NotImplementedError()"
   ]
  },
  {
   "cell_type": "code",
   "execution_count": null,
   "metadata": {
    "deletable": false,
    "editable": false,
    "nbgrader": {
     "grade": false,
     "grade_id": "cell-4cae06507692cc8e",
     "locked": true,
     "schema_version": 3,
     "solution": false
    }
   },
   "outputs": [],
   "source": [
    "priming_word_counts = word_counts_per_ordered_pair(ordered_pairs, ordered_pairs_lines)"
   ]
  },
  {
   "cell_type": "code",
   "execution_count": null,
   "metadata": {
    "deletable": false,
    "editable": false,
    "nbgrader": {
     "grade": true,
     "grade_id": "wc_per_ord_pair_test",
     "locked": true,
     "points": 15,
     "schema_version": 3,
     "solution": false
    }
   },
   "outputs": [],
   "source": [
    "# This is an autograder test. Here we can test the function you just wrote above.\n",
    "\"\"\"Check that `priming_word_counts` returns the correct output.\"\"\"\n",
    "assert type(priming_word_counts) == dict\n",
    "assert len(priming_word_counts[('BRUCE', 'JONATHAN')]) > 0\n",
    "assert len(priming_word_counts[('KRIS', 'KOURTNEY')]) > 100\n",
    "assert sum(priming_word_counts[('KIM', 'KRIS')].values()) > 1000"
   ]
  },
  {
   "cell_type": "markdown",
   "metadata": {
    "deletable": false,
    "editable": false,
    "nbgrader": {
     "grade": false,
     "grade_id": "cell-659c7e02d0bf9a46",
     "locked": true,
     "schema_version": 3,
     "solution": false,
     "task": false
    }
   },
   "source": [
    "- - -\n",
    "<p style='text-align:right; font-size:11px'>[[contents](#contents)]</p>\n",
    "\n",
    "#### <font color='blue'> Question 8d (code completion): Character priming word analysis </font> <a class=\"anchor\" id=\"8d\"></a>\n",
    "  \n",
    "To complete your analysis print the top ten words used by the top three priming pairs. The expected format is the following: \n",
    "\n",
    "```json\n",
    "CHARACTER_NAME_A1 CHARACTER_NAME_A2\n",
    "WORD_1_COUNTS WORD_1\n",
    "...\n",
    "WORD_10_COUNTS WORD_10\n",
    "\n",
    "CHARACTER_NAME_B1 CHARACTER_NAME_B2\n",
    "WORD_1_COUNTS WORD_1\n",
    "...\n",
    "WORD_10_COUNTS WORD_10\n",
    "\n",
    "CHARACTER_NAME_C1 CHARACTER_NAME_C2\n",
    "WORD_1_COUNTS WORD_1\n",
    "...\n",
    "WORD_10_COUNTS WORD_10\n",
    "```\n",
    "where, (A1, A2), (B1, B2), and (C1, C2) represent the top three priming pairs. (You can use the global variable `top_3_priming_pairs`.)"
   ]
  },
  {
   "cell_type": "code",
   "execution_count": null,
   "metadata": {
    "deletable": false,
    "nbgrader": {
     "grade": true,
     "grade_id": "cell-2e98eb8cf4dad010",
     "locked": false,
     "points": 10,
     "schema_version": 3,
     "solution": true
    }
   },
   "outputs": [],
   "source": [
    "# YOUR CODE GOES HERE\n",
    "raise NotImplementedError()"
   ]
  },
  {
   "cell_type": "markdown",
   "metadata": {
    "deletable": false,
    "editable": false,
    "nbgrader": {
     "grade": false,
     "grade_id": "cell-b14220dea82382ee",
     "locked": true,
     "schema_version": 3,
     "solution": false,
     "task": false
    }
   },
   "source": [
    "- - -\n",
    "<p style='text-align:right; font-size:11px'>[[contents](#contents)]</p>\n",
    "\n",
    "#### <font color='green'> [optional] Question 8e (free response): Character priming and interaction strength </font> <a class=\"anchor\" id=\"8e\"></a>\n",
    "\n",
    "We have previously defined interaction strength and looked at the relationship between interaction strength and similarity. Here, we might also want to take a look at how interaction strength relates to the level of priming in each pair. That is, do pairs with stronger interaction strength tend to prime more? If you are curious, you can fill out this free response cell below and let us know.\n",
    "\n",
    "Note. While *no extra points* will be awarded for this task, it may help you with your extra-credit assignment."
   ]
  },
  {
   "cell_type": "code",
   "execution_count": null,
   "metadata": {
    "code_folding": [],
    "deletable": false,
    "nbgrader": {
     "grade": true,
     "grade_id": "cell-ffdc0d89ae6c3a20",
     "locked": false,
     "points": 0,
     "schema_version": 3,
     "solution": true
    }
   },
   "outputs": [],
   "source": [
    "# YOUR CODE GOES HERE"
   ]
  },
  {
   "cell_type": "markdown",
   "metadata": {
    "deletable": false
   },
   "source": [
    "**Solution**: YOUR ANSWER GOES HERE"
   ]
  },
  {
   "cell_type": "markdown",
   "metadata": {
    "deletable": false,
    "editable": false,
    "nbgrader": {
     "grade": false,
     "grade_id": "cell-ba9e5889d67bd082",
     "locked": true,
     "schema_version": 3,
     "solution": false
    }
   },
   "source": [
    "- - -\n",
    "<p style='text-align:right; font-size:11px'>[[contents](#contents)]</p>\n",
    "\n",
    "### Can't get enough of language and information?  <a class=\"anchor\" id=\"ec\"></a>\n",
    "\n",
    "We have more! It is highly recommended that you check out **a2_extra_credit** for a chance to analyze [Game of Thrones](https://en.wikipedia.org/wiki/Game_of_Thrones) data and get some super-valuable extra-credit points.\n",
    "\n",
    "<p style=\"text-align:center\">\n",
    "    <img src=\"https://imgs.xkcd.com/comics/sword_in_the_stone.png\" alt=\"xkcd Sword in the Stone: That seems like an awful lot of hassle when all I wanted was a cool sword.\" width=\"800\"/><br/>(source: <a href=\"https://xkcd.com/1521/\">xkcd.com/1521</a>)\n",
    "</p>"
   ]
  },
  {
   "cell_type": "markdown",
   "metadata": {
    "deletable": false,
    "editable": false,
    "nbgrader": {
     "grade": false,
     "grade_id": "cell-2b384eeccb7e4ae1",
     "locked": true,
     "schema_version": 3,
     "solution": false
    }
   },
   "source": [
    "- - -\n",
    "<p style=\"text-align:left;\"> assignment-2 [PART 2] ends here <span style=\"float:right;font-size:11px;\"> [[contents](#contents)] </span></p>\n",
    "- - -"
   ]
  }
 ],
 "metadata": {
  "kernelspec": {
   "display_name": "Python 3",
   "language": "python",
   "name": "python3"
  },
  "language_info": {
   "codemirror_mode": {
    "name": "ipython",
    "version": 3
   },
   "file_extension": ".py",
   "mimetype": "text/x-python",
   "name": "python",
   "nbconvert_exporter": "python",
   "pygments_lexer": "ipython3",
   "version": "3.7.6"
  },
  "toc": {
   "base_numbering": 1,
   "nav_menu": {},
   "number_sections": true,
   "sideBar": true,
   "skip_h1_title": false,
   "title_cell": "Table of Contents",
   "title_sidebar": "Contents",
   "toc_cell": false,
   "toc_position": {},
   "toc_section_display": true,
   "toc_window_display": true
  },
  "varInspector": {
   "cols": {
    "lenName": 16,
    "lenType": 16,
    "lenVar": 40
   },
   "kernels_config": {
    "python": {
     "delete_cmd_postfix": "",
     "delete_cmd_prefix": "del ",
     "library": "var_list.py",
     "varRefreshCmd": "print(var_dic_list())"
    },
    "r": {
     "delete_cmd_postfix": ") ",
     "delete_cmd_prefix": "rm(",
     "library": "var_list.r",
     "varRefreshCmd": "cat(var_dic_list()) "
    }
   },
   "types_to_exclude": [
    "module",
    "function",
    "builtin_function_or_method",
    "instance",
    "_Feature"
   ],
   "window_display": false
  },
  "vscode": {
   "interpreter": {
    "hash": "458b7af3b923d461320bccaea8f9daf1cdaa5760696b5c0d755cd6a7ade12983"
   }
  }
 },
 "nbformat": 4,
 "nbformat_minor": 2
}
